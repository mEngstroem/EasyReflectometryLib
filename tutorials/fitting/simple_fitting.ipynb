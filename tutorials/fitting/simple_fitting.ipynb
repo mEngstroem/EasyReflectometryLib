{
 "cells": [
  {
   "cell_type": "markdown",
   "id": "84af3f91-c642-4248-9845-6e2c66ea9479",
   "metadata": {},
   "source": [
    "# Fitting a simple slab model\n",
    "\n",
    "In order to show one of the simplest analyses that `easyreflectometry` can perform, we will use the [great example from the *refnx* documentation](https://refnx.readthedocs.io/en/latest/getting_started.rst#Fitting-a-neutron-reflectometry-dataset).\n",
    "This involves the analysis of a single neutron reflectometry dataset from a hydrated polymer film system. \n",
    "Before we start on any analysis, we will import the necessary packages and functions."
   ]
  },
  {
   "cell_type": "markdown",
   "id": "d0fea80b",
   "metadata": {},
   "source": [
    "First configure matplotlib to place figures in notebook and import needed modules.\n",
    "Note that the plot function needs installation of `plopp` seperately or installation of `easyreflectometry[dev]`"
   ]
  },
  {
   "cell_type": "code",
   "execution_count": 1,
   "id": "f026d35c-6a4a-4e9d-889c-d23ea6ee7adc",
   "metadata": {
    "execution": {
     "iopub.execute_input": "2025-04-03T21:27:19.312623Z",
     "iopub.status.busy": "2025-04-03T21:27:19.312152Z",
     "iopub.status.idle": "2025-04-03T21:27:21.224458Z",
     "shell.execute_reply": "2025-04-03T21:27:21.223812Z"
    }
   },
   "outputs": [],
   "source": [
    "%matplotlib inline\n",
    "\n",
    "import pooch\n",
    "import refnx\n",
    "\n",
    "import easyreflectometry\n",
    "\n",
    "from easyreflectometry.data import load\n",
    "from easyreflectometry.sample import Layer\n",
    "from easyreflectometry.sample import Sample\n",
    "from easyreflectometry.sample import Material\n",
    "from easyreflectometry.sample import Multilayer\n",
    "from easyreflectometry.model import Model\n",
    "from easyreflectometry.model import PercentageFwhm\n",
    "from easyreflectometry.calculators import CalculatorFactory\n",
    "from easyreflectometry.fitting import MultiFitter\n",
    "from easyreflectometry.plot import plot"
   ]
  },
  {
   "cell_type": "markdown",
   "id": "b11e304d-38f4-4537-b85b-59f588bed0a4",
   "metadata": {},
   "source": [
    "One of benefits of using a Jupyter Notebook for our analysis is improved reproducibility, to ensure this, below we share the version of the software packages being used."
   ]
  },
  {
   "cell_type": "code",
   "execution_count": 2,
   "id": "373da698-2e50-4508-8738-7e0618e71ef1",
   "metadata": {
    "execution": {
     "iopub.execute_input": "2025-04-03T21:27:21.226990Z",
     "iopub.status.busy": "2025-04-03T21:27:21.226651Z",
     "iopub.status.idle": "2025-04-03T21:27:21.230554Z",
     "shell.execute_reply": "2025-04-03T21:27:21.229919Z"
    }
   },
   "outputs": [
    {
     "name": "stdout",
     "output_type": "stream",
     "text": [
      "easyreflectometry: 1.3.1\n",
      "refnx: 0.1.52\n"
     ]
    }
   ],
   "source": [
    "print(f'easyreflectometry: {easyreflectometry.__version__}')\n",
    "print(f'refnx: {refnx.__version__}')"
   ]
  },
  {
   "cell_type": "markdown",
   "id": "5d4759d6-9758-4ff4-a8d0-62b0eacde1be",
   "metadata": {},
   "source": [
    "## Reading in experimental data\n",
    "\n",
    "`easyreflectometry` has support for the `.ort` file format, a [standard file format for reduced reflectivity data developed by the Open Reflectometry Standards Organisation](https://www.reflectometry.org/working_groups/file_formats/).\n",
    "To load in a dataset, we use the `load` function.\n",
    "We use `pooch` to fetch the file from the repository."
   ]
  },
  {
   "cell_type": "code",
   "execution_count": 3,
   "id": "7d851064-605c-4f80-a510-197bcdbff2ea",
   "metadata": {
    "execution": {
     "iopub.execute_input": "2025-04-03T21:27:21.232616Z",
     "iopub.status.busy": "2025-04-03T21:27:21.232246Z",
     "iopub.status.idle": "2025-04-03T21:27:21.246465Z",
     "shell.execute_reply": "2025-04-03T21:27:21.245970Z"
    }
   },
   "outputs": [],
   "source": [
    "file_path = pooch.retrieve(\n",
    "    # URL to one of Pooch's test files\n",
    "    url=\"https://raw.githubusercontent.com/EasyScience/EasyReflectometryLib/master/docs/src/tutorials/fitting/example.ort\",\n",
    "    known_hash=\"82d0c95c069092279a799a8131ad3710335f601d9f1080754b387f42e407dfab\",\n",
    ")\n",
    "data = load(file_path)"
   ]
  },
  {
   "cell_type": "markdown",
   "id": "6e8a484d-83d5-4ac6-864a-c9f133f1447e",
   "metadata": {},
   "source": [
    "The function about will load the file into a [*scipp* Dataset](https://scipp.github.io/user-guide/data-structures.html#Dataset) object. \n",
    "This offers some nice visualisations of the data, including the HTML view. "
   ]
  },
  {
   "cell_type": "code",
   "execution_count": 4,
   "id": "0903b11f-93ca-405b-9cdc-3b3d358369df",
   "metadata": {
    "execution": {
     "iopub.execute_input": "2025-04-03T21:27:21.248407Z",
     "iopub.status.busy": "2025-04-03T21:27:21.248030Z",
     "iopub.status.idle": "2025-04-03T21:27:21.256773Z",
     "shell.execute_reply": "2025-04-03T21:27:21.256184Z"
    }
   },
   "outputs": [
    {
     "data": {
      "text/html": [
       "<div><style id=\"scipp-style-sheet\">.sc-root{--sc-background-color0:var(--jp-layout-color0,#fff);--sc-background-color1:var(--jp-layout-color1,#fcfcfc);--sc-background-color2:var(--jp-layout-color2,#efefef);--sc-inverse-background-color0:var(--jp-inverse-layout-color4,#111);--sc-font-color0:var(--jp-content-font-color0,#000);--sc-font-color1:var(--jp-content-font-color1,#555);--sc-font-color2:var(--jp-content-font-color2,#888);--sc-font-color3:var(--jp-content-font-color3,#ccc);}body.vscode-dark .sc-root{--sc-font-color0:rgba(255,255,255,1);--sc-font-color1:rgba(255,255,255,0.70);--sc-font-color2:rgba(255,255,255,0.54);--sc-font-color3:rgba(255,255,255,0.38);--sc-border-color:#1F1F1F;--sc-disabled-color:#515151;--sc-background-color0:#111111;--sc-background-color1:#111111;--sc-background-color2:#313131;}.sc-wrap{font-size:14px;min-width:300px;max-width:800px;}.sc-var-attrs .sc-wrap{padding-left:3em;}.sc-header{padding-top:6px;padding-bottom:6px;margin-bottom:4px;border-bottom:solid 1px #ddd;}.sc-header > div,.sc-header > ul{display:inline;margin-top:0;margin-bottom:0;}.sc-obj-type,.sc-array-name{margin-left:2px;margin-right:10px;}.sc-obj-type{color:var(--sc-font-color1);}.sc-underlying-size{color:var(--sc-font-color2);}.sc-sections,.reveal .sc-sections{padding-left:0 !important;display:grid;grid-template-columns:150px auto auto auto 1fr 20px 20px;}.sc-section-item{display:contents;}.sc-section-item input{display:none;}.sc-section-item input:enabled + label{cursor:pointer;color:var(--sc-font-color1);}.sc-section-item input:enabled + label:hover{color:var(--sc-font-color0);}.sc-section-summary{grid-column:1;font-weight:500;}.sc-section-summary > span{display:inline-block;padding-left:0.5em;}.sc-section-summary-in:disabled + label{color:var(--sc-font-color1);}.sc-section-summary-in + label:before{display:inline-block;content:'►';font-size:11px;width:15px;text-align:center;}.sc-section-summary-in:disabled + label:before{color:var(--sc-font-color3);}.sc-section-summary-in:checked + label:before{content:'▼';}.sc-section-summary-in:checked + label > span{display:none;}.sc-section-summary,.sc-section-inline-details{padding-top:4px;padding-bottom:4px;}.sc-section-inline-details{grid-column:2 / 6;}.sc-section-details{display:none;grid-column:1 / -1;margin-bottom:5px;}.sc-section-summary-in:checked ~ .sc-section-details{display:contents;}.sc-array-wrap{grid-column:1 / -1;display:grid;grid-template-columns:20px auto;}.sc-array-wrap > label{grid-column:1;vertical-align:top;}.sc-preview{color:var(--sc-font-color2);}.sc-array-preview,.sc-array-data{padding:0 5px !important;grid-column:2;}.sc-array-data,.sc-array-in:checked ~ .sc-array-preview{display:none;}.sc-array-in:checked ~ .sc-array-data,.sc-array-preview{display:inline-block;}.sc-dim-list{display:inline-block !important;list-style:none;padding:0 !important;margin:0;}.sc-dim-list li{display:inline-block;padding:0;margin:0!important;}.sc-dim-list:before{content:'(';}.sc-dim-list:after{content:')';}.sc-dim-list li:not(:last-child):after{content:',';padding-right:5px;}.sc-dim-list li span,.sc-standalone-var-name > span span,.sc-var-name > span span{padding:0 !important;}.sc-aligned{font-weight:bold;}.sc-var-list,.sc-var-item,.reveal .sc-var-list,.reveal .sc-var-item{display:contents;}.sc-var-item > div,.sc-var-item label,.sc-var-item > .sc-var-name span{background-color:var(--sc-background-color1);margin-bottom:0;}.sc-var-item > .sc-var-name:hover span{padding-right:5px;}.sc-var-list > li:nth-child(odd) > div,.sc-var-list > li:nth-child(odd) > label,.sc-var-list > li:nth-child(odd) > .sc-var-name span{background-color:var(--sc-background-color2);}.sc-var-name{grid-column:1;}.sc-var-dims{grid-column:2;}.sc-var-dtype{grid-column:3;text-align:right;color:var(--sc-font-color2);}.sc-var-unit{grid-column:4;text-align:left;color:var(--sc-font-color1);max-width:50pt;text-overflow:ellipsis;}.sc-value-preview{grid-column:5;}.sc-var-preview-variances{text-align:right;}.sc-sections .sc-section-item .sc-section-summary,.sc-sections .sc-section-item .sc-section-inline-details,.sc-section-item .sc-var-list .sc-var-item > div,.sc-section-item .sc-var-list .sc-var-item > label,.sc-section-details .sc-var-list .sc-var-item > div,.sc-section-details .sc-var-list .sc-var-item > label{margin-top:0;margin-bottom:0;}.sc-var-name,.sc-var-dims,.sc-var-dtype,.sc-var-unit,.sc-preview,.sc-attrs dt{white-space:nowrap;overflow:hidden;text-overflow:ellipsis;padding-right:10px;}.sc-var-name:hover,.sc-var-dims:hover,.sc-var-dtype:hover,.sc-var-unit:hover,.sc-attrs dt:hover{overflow:visible;width:auto;z-index:1;}.sc-var-attrs{display:block;}.sc-var-data,.reveal .sc-var-data{display:none;}.sc-var-attrs,.sc-var-data{background-color:var(--sc-background-color0) !important;padding-bottom:5px !important;}.sc-var-attrs-in:checked ~ .sc-var-attrs{display:none;}.sc-var-data-in:checked ~ .sc-var-data{display:block;}.sc-var-data > table{float:right;}.sc-var-name span,.sc-var-data{padding-left:25px !important;}.sc-var-attrs,.sc-var-data{grid-column:1 / -1;}dl.sc-attrs{padding:0;margin:0;display:grid;grid-template-columns:125px auto;}.sc-attrs dt,dd{padding:0;margin:0;float:left;padding-right:10px;width:auto;}.sc-attrs dt{font-weight:normal;grid-column:1;}.sc-attrs dt:hover span{display:inline-block;padding-right:10px;}.sc-attrs dd{grid-column:2;white-space:pre-wrap;word-break:break-all;}.sc-icon-database,.sc-icon-file-text2{display:inline-block;vertical-align:middle;width:1em;height:1.5em !important;stroke-width:0;stroke:currentColor;fill:currentColor;}label.sc-hide-icon svg{opacity:0;}.sc-standalone-var-name{grid-column:1/3;}.sc-standalone-var-name span{padding-left:25px;padding-right:10px;}.sc-title{font-weight:bold;font-size:1.5em;}.sc-subtitle{font-weight:normal;font-style:italic;text-align:left;font-size:1.2em;padding:1px;}.sc-label{fill:var(--sc-font-color0,#444444);text-anchor:middle;}.sc-name{fill:var(--sc-font-color0,#111111);}.sc-inset-line{stroke:var(--sc-font-color1);stroke-width:0.05;stroke-dasharray:0.2,0.2;}.sc-log-wrap{height:25ex;resize:vertical;overflow-y:scroll;display:flex;flex-direction:column-reverse;border:1px solid;border-color:var(--jp-border-color2);background-color:var(--sc-background-color1);}div.sc-log{line-height:2.5ex;}table.sc-log{table-layout:auto;border-collapse:collapse;}tr.sc-log:nth-child(even){background-color:var(--sc-background-color0);}tr.sc-log > td{vertical-align:top;padding-bottom:0.5ex;}.sc-log-time-stamp{min-width:22ch;font-family:var(--jp-code-font-family);color:var(--sc-font-color2);}.sc-log-level{min-width:10ch;}tr.sc-log-debug td.sc-log-level{color:var(--jp-accent-color1);}tr.sc-log-info td.sc-log-level{color:var(--jp-info-color1);}tr.sc-log-warning td.sc-log-level{color:var(--jp-warn-color1);}tr.sc-log-error td.sc-log-level{font-weight:bold;color:var(--jp-error-color2);}tr.sc-log-critical td.sc-log-level{font-weight:bold;color:var(--sc-background-color0);background-color:var(--jp-error-color1);}.sc-log-message{white-space:pre-wrap;width:100%;}.sc-log-html-payload{white-space:normal;}.sc-log-name{padding-right:0.5em;text-align:right;white-space:pre-wrap;color:var(--sc-font-color3);}</style><style id=\"datagroup-style-sheet\">.dg-root{white-space:normal;font-size:14px;min-width:300px;max-width:1200px;}.dg-root *{box-sizing:border-box;}.sc-header > label,.sc-header > label > div,.sc-header > label > div > ul{display:inline;margin-bottom:0;}.dg-header-in{display:none;}.dg-header-in + .sc-header > label:before{display:inline-block;font-size:11px;text-align:left;content:'►';}.dg-header-in:checked + .sc-header > label:before{content:'▼';}.dg-header-in ~ .dg-detail-box{display:none;}.dg-header-in:checked ~ .dg-detail-box{display:grid;}.dg-detail-box{margin-top:5px;margin-bottom:5px;column-gap:0 !important;display:grid;grid-template-columns:max-content max-content max-content max-content max-content max-content max-content;grid-template-areas:\"name        parent      object-type shape       dtype       unit        preview\";}.dg-detail-box *{margin-top:0;margin-bottom:0;}.dg-detail-list{display:contents;}.dg-detail-item{display:contents;list-style-type:none;}.dg-detail-item-in{display:none;}.dg-detail-item-in + .dg-detail-name > label:before{display:inline-block;font-size:14px;text-align:left;content:'►';}.dg-detail-item-in:checked + .dg-detail-name > label:before{content:'▼';}.dg-detail-item div,.dg-detail-item span,.dg-detail-item label{word-break:break-all;min-width:1em;max-width:20em;width:100%;}.dg-detail-item > div{display:contents;}.dg-detail-item > div > div > div{width:100%;}.dg-detail-item:hover > div > div{background-color:var(--sc-background-color2) !important;}.dg-detail-item > div span{padding-left:10px;padding-right:10px;}.dg-detail-item > div > div:first-of-type{grid-column-start:1;}.dg-detail-item-subsection{display:none;}.dg-detail-item-in{margin:0;}.dg-detail-item-in:checked ~ .dg-detail-item-subsection{display:contents;}.dg-detail-item .dg-detail-name{grid-area:\"name\";min-width:5em;}.dg-detail-name{padding-left:calc(var(--depth)*2em);}.dg-detail-name > label{padding-left:8px;}.dg-detail-name > label > span{padding-left:0.1em;}.dg-detail-item .dg-detail-parent{grid-area:\"parent\";text-align:right;}.dg-detail-item .dg-detail-objtype{grid-area:\"objtype\";text-align:left;}.dg-detail-item .dg-detail-shape{max-width:30em;grid-area:\"shape\";text-align:left;}.sc-header .dg-detail-shape{margin-left:1em;text-align:left;}.dg-detail-item .dg-detail-dtype{grid-area:\"dtype\";text-align:left;}.dg-detail-item .dg-detail-unit{grid-area:\"unit\";text-align:center;}.dg-detail-item .dg-detail-preview{grid-area:\"preview\";min-width:15em;max-width:100em !important;text-align:left;}.dg-detail-preview .sc-preview span,.dg-detail-shape span{padding:0 !important;}</style><div class='sc-root dg-root'><input class='dg-header-in' id='datagroup-view-e6c86be1-b60b-42fe-8d20-2225454f7dde' type='checkbox' checked><div class='sc-header'><label for=datagroup-view-e6c86be1-b60b-42fe-8d20-2225454f7dde title='Expand/collapse'><div class='sc-obj-type'>scipp.DataGroup </div><div class='dg-detail-shape'>()</div></label></div><div class='dg-detail-box'><ul class='dg-detail-list'><li class='dg-detail-item'><div><div class='dg-detail-name' style='--depth: 0;'><span>data</span></div><div class='dg-detail-parent'><span style='opacity: 0.5;'></span></div><div class='dg-detail-objtype'><span>dict</span></div><div class='dg-detail-shape'>()</div><div class='dg-detail-dtype'><span></span></div><div class='dg-detail-unit'><span></span></div><div class='dg-detail-preview'><span class='sc-preview'>{&#x27;R_0&#x27;: &lt;scipp.Variable&gt; (Qz_0: 408)    float64  [dimensionless]  [0.709581, 0.8...</span></div></div></li><li class='dg-detail-item'><div><div class='dg-detail-name' style='--depth: 0;'><span>coords</span></div><div class='dg-detail-parent'><span style='opacity: 0.5;'></span></div><div class='dg-detail-objtype'><span>dict</span></div><div class='dg-detail-shape'>()</div><div class='dg-detail-dtype'><span></span></div><div class='dg-detail-unit'><span></span></div><div class='dg-detail-preview'><span class='sc-preview'>{&#x27;Qz_0&#x27;: &lt;scipp.Variable&gt; (Qz_0: 408)    float64           [1/Å]  [0.00806022, 0...</span></div></div></li><li class='dg-detail-item'><div><div class='dg-detail-name' style='--depth: 0;'><span>attrs</span></div><div class='dg-detail-parent'><span style='opacity: 0.5;'></span></div><div class='dg-detail-objtype'><span>dict</span></div><div class='dg-detail-shape'>()</div><div class='dg-detail-dtype'><span></span></div><div class='dg-detail-unit'><span></span></div><div class='dg-detail-preview'><span class='sc-preview'>{&#x27;R_0&#x27;: {&#x27;orso_header&#x27;: &lt;scipp.Variable&gt; ()   PyObject        &lt;no unit&gt;  {&#x27;data_...</span></div></div></li></ul></div></div></div>"
      ],
      "text/plain": [
       "DataGroup(sizes={}, keys=[\n",
       "    data: {'R_0': <scipp.Variable> (Qz_0: 408)    float64  [dimensionless]  [0.709581, 0.862281, ..., 3.85579e-07, 3.83415e-07]  [0.0072365, 0.012627, ..., 3.10264e-14, 3.55149e-14]},\n",
       "    coords: {'Qz_0': <scipp.Variable> (Qz_0: 408)    float64           [1/Å]  [0.00806022, 0.00813662, ..., 0.460946, 0.465555]  [1.98083e-08, 2.01923e-08, ..., 8.97175e-05, 9.20225e-05]},\n",
       "    attrs: {'R_0': {'orso_header': <scipp.Variable> ()   PyObject        <no unit>  {'data_source': {'owner': {'name': 'Andrew Nelson', 'affiliation': 'ANSTO', 'contact': 'Andrew.Nelson@ansto.gov.au'}, 'experiment': {'title': 'Example data file from refnx docs', 'instrument': 'platypus', 'start_date': datetime.datetime(2021, 5, 12, 0, 0), 'probe': 'neutron', 'facility': 'ANSTO'}, 'sample': {'name': 'Polymer Film', 'category': 'solid / liquid', 'composition': 'Si / SiO2 / Film / D2O'}, 'measurement': {'instrument_settings': {'incident_angle': {'magnitude': 3.0, 'unit': 'deg'}, 'wavelength': {'magnitude': 12.0, 'unit': 'angstrom'}, 'polarization': 'unpolarized'}, 'data_files': ['Unknown.nxs'], 'scheme': 'angle-dispersive'}}, 'reduction': {'software': {'name': 'ess'}, 'timestamp': datetime.datetime(2022, 1, 27, 15, 33, 59, tzinfo=datetime.timezone(datetime.timedelta(seconds=3600))), 'corrections': ['footprint', 'incident intensity', 'detector efficiency']}, 'columns': [{'name': 'Qz', 'unit': '1/angstrom', 'dimension': 'WW transfer'}, {'name': 'R', 'dimension': 'reflectivity'}, {'name': 'sR', 'dimension': 'error-reflectivity'}, {'name': 'sQz', 'unit': '1/angstrom', 'dimension': 'resolution-WW transfer'}]}}},\n",
       "])"
      ]
     },
     "execution_count": 4,
     "metadata": {},
     "output_type": "execute_result"
    }
   ],
   "source": [
    "data"
   ]
  },
  {
   "cell_type": "markdown",
   "id": "1e90efd6-f448-4958-9b18-493a6cbd25a5",
   "metadata": {},
   "source": [
    "`easyreflectometry` also includes a custom plotting function for the data. "
   ]
  },
  {
   "cell_type": "code",
   "execution_count": 5,
   "id": "28580664-86d3-4d25-9389-6670db7e87e5",
   "metadata": {
    "execution": {
     "iopub.execute_input": "2025-04-03T21:27:21.258712Z",
     "iopub.status.busy": "2025-04-03T21:27:21.258322Z",
     "iopub.status.idle": "2025-04-03T21:27:21.783948Z",
     "shell.execute_reply": "2025-04-03T21:27:21.783215Z"
    }
   },
   "outputs": [
    {
     "data": {
      "image/png": "[encoded data removed]",
      "text/plain": [
       "<Figure size 500x300 with 1 Axes>"
      ]
     },
     "metadata": {},
     "output_type": "display_data"
    }
   ],
   "source": [
    "plot(data)"
   ]
  },
  {
   "cell_type": "markdown",
   "id": "4ce54e79-18b6-4dda-a83c-2d538eb84b33",
   "metadata": {},
   "source": [
    "## Building our model\n",
    "\n",
    "Now that we have read in the experimental data that we want to analyse, it is necessary that we construct some model that describes what we **think** the system looks like. \n",
    "The construction of this models is discussed in detail in the [model-dependent analysis](https://www.reflectometry.org/isis_school/2_model_dependent_analysis/what_is_model_dependent_analysis.html) and [reflectometry slab models](https://www.reflectometry.org/isis_school/3_reflectometry_slab_models/the_slab_model.html) sections of the ISIS Virtual Reflectometry Training Course on [neutron reflectometry fitting](https://www.reflectometry.org/isis_school/intro.html). \n",
    "\n",
    "The system that we are investigating consists of four layers (with the top and bottom as semi-finite super- and sub-phases). \n",
    "The super-phase (where the neutrons are incident first) is a silicon (Si) wafer and as a process of the sample preparation there is anticipated to by a layer of silicon dioxide (SiO<sub>2</sub>) on this material.\n",
    "Then a polymer film has been attached to the silicon dioxide by some chemical method and this polymer film is solvated in a heavy water (D<sub>2</sub>O) which also makes up the sub-phase of the system. \n",
    "This is shown pictorially below, as a slab model. \n",
    "\n",
    "<center>\n",
    "    <img src='polymer_film.png' alt='A slab model description of the polymer film system.' width='300px'></img>\n",
    "</center>\n",
    "<center>\n",
    "    A slab model description of the polymer film system (note that the layers are <b>not</b> to scale), showing the four layers of silicon, silicon dioxide, the polymer film and the heavy water subphase.\n",
    "</center>\n",
    "\n",
    "In order to constuct this model in `EasyReflecotmetry`, first we must construct objects for each of the materials that will compose the layers.\n",
    "These objects should be of type `Material`, when constructed `from_pars` the arguments are the real and imaginary components of the scattering length density (in units of 10<sup>-6</sup>Å<sup>-2</sup>) and some name for the material. "
   ]
  },
  {
   "cell_type": "code",
   "execution_count": 6,
   "id": "1fd5d9ba-a912-40f1-96a9-8d8d85c35c18",
   "metadata": {
    "execution": {
     "iopub.execute_input": "2025-04-03T21:27:21.785998Z",
     "iopub.status.busy": "2025-04-03T21:27:21.785791Z",
     "iopub.status.idle": "2025-04-03T21:27:21.796216Z",
     "shell.execute_reply": "2025-04-03T21:27:21.795713Z"
    }
   },
   "outputs": [],
   "source": [
    "si = Material(sld=2.07, isld=0, name='Si')\n",
    "sio2 = Material(sld=3.47, isld=0, name='SiO2')\n",
    "film = Material(sld=2.0, isld=0, name='Film')\n",
    "d2o = Material(sld=6.36, isld=0, name='D2O')"
   ]
  },
  {
   "cell_type": "markdown",
   "id": "7c31f6ab-6a22-4ac6-a058-b7bbac241211",
   "metadata": {},
   "source": [
    "We can investigate the properties of one of these objects as follows."
   ]
  },
  {
   "cell_type": "code",
   "execution_count": 7,
   "id": "ed3f08ce-623b-4d08-be48-dbc039ecc5df",
   "metadata": {
    "execution": {
     "iopub.execute_input": "2025-04-03T21:27:21.798044Z",
     "iopub.status.busy": "2025-04-03T21:27:21.797845Z",
     "iopub.status.idle": "2025-04-03T21:27:21.802635Z",
     "shell.execute_reply": "2025-04-03T21:27:21.802000Z"
    }
   },
   "outputs": [
    {
     "data": {
      "text/plain": [
       "Film:\n",
       "  sld: 2.000e-6 1/Å^2\n",
       "  isld: 0.000e-6 1/Å^2"
      ]
     },
     "execution_count": 7,
     "metadata": {},
     "output_type": "execute_result"
    }
   ],
   "source": [
    "film"
   ]
  },
  {
   "cell_type": "markdown",
   "id": "1d11949f-5b75-4185-94bf-bd41c9f4f145",
   "metadata": {},
   "source": [
    "Next we will produce layers from each of these materials, of type `Layer`. The `from_pars` constructor for these take the material, a thickness and a interfacial roughness (on the top of the layer). The thickness and roughness values are both in Å. "
   ]
  },
  {
   "cell_type": "code",
   "execution_count": 8,
   "id": "bfd2d8a1-35fe-4a6c-aeee-93f1b4066b61",
   "metadata": {
    "execution": {
     "iopub.execute_input": "2025-04-03T21:27:21.804544Z",
     "iopub.status.busy": "2025-04-03T21:27:21.804346Z",
     "iopub.status.idle": "2025-04-03T21:27:21.812814Z",
     "shell.execute_reply": "2025-04-03T21:27:21.812259Z"
    }
   },
   "outputs": [],
   "source": [
    "si_layer = Layer(material=si, thickness=0, roughness=0, name='Si layer')\n",
    "sio2_layer = Layer(material=sio2, thickness=30, roughness=3, name='SiO2 layer')\n",
    "film_layer = Layer(material=film, thickness=250, roughness=3, name='Film Layer')\n",
    "subphase = Layer(material=d2o, thickness=0, roughness=3, name='D2O Subphase')"
   ]
  },
  {
   "cell_type": "markdown",
   "id": "8e165a80-66d9-469f-a013-e776e63513e6",
   "metadata": {},
   "source": [
    "Again, we can probe the properties of the layer as such."
   ]
  },
  {
   "cell_type": "code",
   "execution_count": 9,
   "id": "a376085b-56a9-4823-9293-c58c294c6f70",
   "metadata": {
    "execution": {
     "iopub.execute_input": "2025-04-03T21:27:21.814834Z",
     "iopub.status.busy": "2025-04-03T21:27:21.814438Z",
     "iopub.status.idle": "2025-04-03T21:27:21.819232Z",
     "shell.execute_reply": "2025-04-03T21:27:21.818577Z"
    }
   },
   "outputs": [
    {
     "data": {
      "text/plain": [
       "Film Layer:\n",
       "  material:\n",
       "    Film:\n",
       "      sld: 2.000e-6 1/Å^2\n",
       "      isld: 0.000e-6 1/Å^2\n",
       "  thickness: 250.000 Å\n",
       "  roughness: 3.000 Å"
      ]
     },
     "execution_count": 9,
     "metadata": {},
     "output_type": "execute_result"
    }
   ],
   "source": [
    "film_layer"
   ]
  },
  {
   "cell_type": "markdown",
   "id": "7247fc52-6874-47eb-a234-c7bb7db229fd",
   "metadata": {},
   "source": [
    "Given that the silicon and silicon dioxide layer both compose the solid subphase, it can be helpful to combine these as a `Multilayer` [assembly type](../basic/assemblies_library.rst#multilayer) in our code. "
   ]
  },
  {
   "cell_type": "code",
   "execution_count": 10,
   "id": "a6508395-d292-4338-9fbe-77e19b011ae6",
   "metadata": {
    "execution": {
     "iopub.execute_input": "2025-04-03T21:27:21.821392Z",
     "iopub.status.busy": "2025-04-03T21:27:21.821031Z",
     "iopub.status.idle": "2025-04-03T21:27:21.824325Z",
     "shell.execute_reply": "2025-04-03T21:27:21.823678Z"
    }
   },
   "outputs": [],
   "source": [
    "superphase = Multilayer([si_layer, sio2_layer], name='Si/SiO2 Superphase')"
   ]
  },
  {
   "cell_type": "markdown",
   "id": "a3a2df9b-8ddb-4b3e-a5c3-55b72280b651",
   "metadata": {},
   "source": [
    "These objects are then combined as a `Sample`, where the constructor takes a series of layers (or some more complex `easyreflectometry` [assemblies](../basic/assemblies_library.rst)) and, optionally, some name for the sample."
   ]
  },
  {
   "cell_type": "code",
   "execution_count": 11,
   "id": "2a0aee2a-e77e-4558-a8b0-ef2d1cffd4d0",
   "metadata": {
    "execution": {
     "iopub.execute_input": "2025-04-03T21:27:21.826561Z",
     "iopub.status.busy": "2025-04-03T21:27:21.826121Z",
     "iopub.status.idle": "2025-04-03T21:27:21.830343Z",
     "shell.execute_reply": "2025-04-03T21:27:21.829712Z"
    }
   },
   "outputs": [],
   "source": [
    "sample = Sample(superphase, Multilayer(film_layer), Multilayer(subphase), name='Film Structure')"
   ]
  },
  {
   "cell_type": "markdown",
   "id": "b3e5d88e-3da4-4a3e-8067-80e9cd35be8f",
   "metadata": {},
   "source": [
    "This sample can be investigated from the string representation like the other objects. "
   ]
  },
  {
   "cell_type": "code",
   "execution_count": 12,
   "id": "335ed125-f1a6-4366-90b3-d7343b95a258",
   "metadata": {
    "execution": {
     "iopub.execute_input": "2025-04-03T21:27:21.832678Z",
     "iopub.status.busy": "2025-04-03T21:27:21.832180Z",
     "iopub.status.idle": "2025-04-03T21:27:21.838949Z",
     "shell.execute_reply": "2025-04-03T21:27:21.838414Z"
    }
   },
   "outputs": [
    {
     "data": {
      "text/plain": [
       "Film Structure:\n",
       "- Si/SiO2 Superphase:\n",
       "    Si layer/SiO2 layer:\n",
       "    - Si layer:\n",
       "        material:\n",
       "          Si:\n",
       "            sld: 2.070e-6 1/Å^2\n",
       "            isld: 0.000e-6 1/Å^2\n",
       "        thickness: 0.000 Å\n",
       "        roughness: 0.000 Å\n",
       "    - SiO2 layer:\n",
       "        material:\n",
       "          SiO2:\n",
       "            sld: 3.470e-6 1/Å^2\n",
       "            isld: 0.000e-6 1/Å^2\n",
       "        thickness: 30.000 Å\n",
       "        roughness: 3.000 Å\n",
       "- EasyMultilayer:\n",
       "    Film Layer:\n",
       "    - Film Layer:\n",
       "        material:\n",
       "          Film:\n",
       "            sld: 2.000e-6 1/Å^2\n",
       "            isld: 0.000e-6 1/Å^2\n",
       "        thickness: 250.000 Å\n",
       "        roughness: 3.000 Å\n",
       "- EasyMultilayer:\n",
       "    D2O Subphase:\n",
       "    - D2O Subphase:\n",
       "        material:\n",
       "          D2O:\n",
       "            sld: 6.360e-6 1/Å^2\n",
       "            isld: 0.000e-6 1/Å^2\n",
       "        thickness: 0.000 Å\n",
       "        roughness: 3.000 Å"
      ]
     },
     "execution_count": 12,
     "metadata": {},
     "output_type": "execute_result"
    }
   ],
   "source": [
    "sample"
   ]
  },
  {
   "cell_type": "markdown",
   "id": "cdd4de17-0802-483a-b706-9b4781dfc57a",
   "metadata": {},
   "source": [
    "## Constructing the model\n",
    "\n",
    "The structure of the system under investigation is just part of the analysis story. \n",
    "It is also necessary to describe the instrumental parameters, namely the background level, the resolution and some option to scale the data in the *y*-axis. \n",
    "<div class=\"alert alert-info\">\n",
    "    \n",
    "Note\n",
    "    \n",
    "Currently, only constant with resolution is supported. We are working to include more complex resolution in future.\n",
    "\n",
    "</div>\n",
    "\n",
    "the `Model` constructor takes our smple, a scale factor, a uniform background level and a resolution function. "
   ]
  },
  {
   "cell_type": "code",
   "execution_count": 13,
   "id": "8646c977-28b4-4cd4-adbd-fc263359ca1c",
   "metadata": {
    "execution": {
     "iopub.execute_input": "2025-04-03T21:27:21.840866Z",
     "iopub.status.busy": "2025-04-03T21:27:21.840508Z",
     "iopub.status.idle": "2025-04-03T21:27:21.845077Z",
     "shell.execute_reply": "2025-04-03T21:27:21.844423Z"
    }
   },
   "outputs": [],
   "source": [
    "resolution_function = PercentageFwhm(0.02)\n",
    "model = Model(\n",
    "    sample=sample,\n",
    "    scale=1,\n",
    "    background=1e-6,\n",
    "    resolution_function=resolution_function,\n",
    "    name='Film Model'\n",
    ")"
   ]
  },
  {
   "cell_type": "markdown",
   "id": "d22153d8-63d9-4542-8b29-4ff7dd73b79a",
   "metadata": {},
   "source": [
    "From this object, we can investigate all of the parameters of our model."
   ]
  },
  {
   "cell_type": "code",
   "execution_count": 14,
   "id": "3b4aaba2-6dda-4e4a-b56f-e2ffcf935017",
   "metadata": {
    "execution": {
     "iopub.execute_input": "2025-04-03T21:27:21.847290Z",
     "iopub.status.busy": "2025-04-03T21:27:21.846837Z",
     "iopub.status.idle": "2025-04-03T21:27:21.853674Z",
     "shell.execute_reply": "2025-04-03T21:27:21.853053Z"
    }
   },
   "outputs": [
    {
     "data": {
      "text/plain": [
       "Film Model:\n",
       "  scale: 1.0\n",
       "  background: 1.0e-06\n",
       "  resolution: 0.02 %\n",
       "  color: black\n",
       "  sample:\n",
       "    Film Structure:\n",
       "    - Si/SiO2 Superphase:\n",
       "        Si layer/SiO2 layer:\n",
       "        - Si layer:\n",
       "            material:\n",
       "              Si:\n",
       "                sld: 2.070e-6 1/Å^2\n",
       "                isld: 0.000e-6 1/Å^2\n",
       "            thickness: 0.000 Å\n",
       "            roughness: 0.000 Å\n",
       "        - SiO2 layer:\n",
       "            material:\n",
       "              SiO2:\n",
       "                sld: 3.470e-6 1/Å^2\n",
       "                isld: 0.000e-6 1/Å^2\n",
       "            thickness: 30.000 Å\n",
       "            roughness: 3.000 Å\n",
       "    - EasyMultilayer:\n",
       "        Film Layer:\n",
       "        - Film Layer:\n",
       "            material:\n",
       "              Film:\n",
       "                sld: 2.000e-6 1/Å^2\n",
       "                isld: 0.000e-6 1/Å^2\n",
       "            thickness: 250.000 Å\n",
       "            roughness: 3.000 Å\n",
       "    - EasyMultilayer:\n",
       "        D2O Subphase:\n",
       "        - D2O Subphase:\n",
       "            material:\n",
       "              D2O:\n",
       "                sld: 6.360e-6 1/Å^2\n",
       "                isld: 0.000e-6 1/Å^2\n",
       "            thickness: 0.000 Å\n",
       "            roughness: 3.000 Å"
      ]
     },
     "execution_count": 14,
     "metadata": {},
     "output_type": "execute_result"
    }
   ],
   "source": [
    "model"
   ]
  },
  {
   "cell_type": "markdown",
   "id": "bb368824-f0fa-411e-b895-70f596e60a53",
   "metadata": {},
   "source": [
    "## Setting varying parameters\n",
    "\n",
    "Now that the model is fully constructed, we can select the parameters in our model that should be varied. \n",
    "Below we set the thickness of the SiO<sub>2</sub> and film layers to vary along with the real scattering length density of the film and all of the roughnesses. "
   ]
  },
  {
   "cell_type": "code",
   "execution_count": 15,
   "id": "a4d3eae5-ec8d-4a7f-91ef-fcce3cc5a5ed",
   "metadata": {
    "execution": {
     "iopub.execute_input": "2025-04-03T21:27:21.855831Z",
     "iopub.status.busy": "2025-04-03T21:27:21.855438Z",
     "iopub.status.idle": "2025-04-03T21:27:21.861276Z",
     "shell.execute_reply": "2025-04-03T21:27:21.860753Z"
    }
   },
   "outputs": [],
   "source": [
    "# Thicknesses\n",
    "sio2_layer.thickness.bounds = (15, 50)\n",
    "film_layer.thickness.bounds = (200, 300)\n",
    "# Roughnesses\n",
    "sio2_layer.roughness.bounds = (1, 15)\n",
    "film_layer.roughness.bounds = (1, 15)\n",
    "subphase.roughness.bounds = (1, 15)\n",
    "# Scattering length density\n",
    "film_layer.material.sld.bounds = (0.1, 3)"
   ]
  },
  {
   "cell_type": "markdown",
   "id": "4b909563-a780-4c35-8995-17e53d559114",
   "metadata": {},
   "source": [
    "In addition to these variables of the structure, we will also vary the background level and scale factor. "
   ]
  },
  {
   "cell_type": "code",
   "execution_count": 16,
   "id": "7e2d7b81-7b49-4831-9508-75e0e234f15f",
   "metadata": {
    "execution": {
     "iopub.execute_input": "2025-04-03T21:27:21.863043Z",
     "iopub.status.busy": "2025-04-03T21:27:21.862857Z",
     "iopub.status.idle": "2025-04-03T21:27:21.866323Z",
     "shell.execute_reply": "2025-04-03T21:27:21.865817Z"
    }
   },
   "outputs": [],
   "source": [
    "# Background\n",
    "model.background.bounds = (1e-8, 1e-5)\n",
    "# Scale\n",
    "model.scale.bounds = (0.5, 1.5)"
   ]
  },
  {
   "cell_type": "markdown",
   "id": "14bef528-08de-41a6-99cd-c74d40409164",
   "metadata": {
    "tags": []
   },
   "source": [
    "## Choosing our calculation engine\n",
    "\n",
    "The `easyreflectometry` package enables the calculation of the reflectometry profile using either [*refnx*](https://refnx.readthedocs.io/) or [*Refl1D*](https://refl1d.readthedocs.io/en/latest/).\n",
    "For this tutorial, we will stick to the current default, which is *refnx*. \n",
    "The calculator must be created and associated with the model that we are to fit. "
   ]
  },
  {
   "cell_type": "code",
   "execution_count": 17,
   "id": "cdbe172a-1283-4cdc-8fb2-d3383b8d21b3",
   "metadata": {
    "execution": {
     "iopub.execute_input": "2025-04-03T21:27:21.868406Z",
     "iopub.status.busy": "2025-04-03T21:27:21.868034Z",
     "iopub.status.idle": "2025-04-03T21:27:21.872726Z",
     "shell.execute_reply": "2025-04-03T21:27:21.872211Z"
    }
   },
   "outputs": [],
   "source": [
    "interface = CalculatorFactory()\n",
    "model.interface = interface"
   ]
  },
  {
   "cell_type": "markdown",
   "id": "126c7ab2-79fc-461a-9cde-49edfabbf25b",
   "metadata": {},
   "source": [
    "We can check the calculation engine currently in use as follows. "
   ]
  },
  {
   "cell_type": "code",
   "execution_count": 18,
   "id": "0409e2ab-3554-425d-8e9c-2e64de41878d",
   "metadata": {
    "execution": {
     "iopub.execute_input": "2025-04-03T21:27:21.874659Z",
     "iopub.status.busy": "2025-04-03T21:27:21.874301Z",
     "iopub.status.idle": "2025-04-03T21:27:21.877763Z",
     "shell.execute_reply": "2025-04-03T21:27:21.877192Z"
    }
   },
   "outputs": [
    {
     "name": "stdout",
     "output_type": "stream",
     "text": [
      "refnx\n"
     ]
    }
   ],
   "source": [
    "print(interface.current_interface.name)"
   ]
  },
  {
   "cell_type": "markdown",
   "id": "62f596b8-eae5-4fc6-96cc-047ebd689778",
   "metadata": {},
   "source": [
    "## Performing an optimisation\n",
    "\n",
    "The optimisation of our model is achieved with a `MultiFitter`, which takes our model. "
   ]
  },
  {
   "cell_type": "code",
   "execution_count": 19,
   "id": "3648873e-16bb-449d-b90d-8b1bd4f05eb6",
   "metadata": {
    "execution": {
     "iopub.execute_input": "2025-04-03T21:27:21.879764Z",
     "iopub.status.busy": "2025-04-03T21:27:21.879395Z",
     "iopub.status.idle": "2025-04-03T21:27:21.882426Z",
     "shell.execute_reply": "2025-04-03T21:27:21.881800Z"
    }
   },
   "outputs": [],
   "source": [
    "fitter = MultiFitter(model)"
   ]
  },
  {
   "cell_type": "markdown",
   "id": "3f42dfb0-082c-487f-b2ae-b89bfa523a36",
   "metadata": {},
   "source": [
    "To actually perform the optimisation, we must pass our `data` object created from the experimental data. \n",
    "This will return a new `sc.Dataset` with the result of out analysis, and the model will be updated in place. "
   ]
  },
  {
   "cell_type": "code",
   "execution_count": 20,
   "id": "9762fc0b-c4c2-4f92-8560-079ea248dfca",
   "metadata": {
    "execution": {
     "iopub.execute_input": "2025-04-03T21:27:21.884539Z",
     "iopub.status.busy": "2025-04-03T21:27:21.884184Z",
     "iopub.status.idle": "2025-04-03T21:27:22.059109Z",
     "shell.execute_reply": "2025-04-03T21:27:22.058416Z"
    }
   },
   "outputs": [],
   "source": [
    "analysed = fitter.fit(data)"
   ]
  },
  {
   "cell_type": "code",
   "execution_count": 21,
   "id": "80706bce-89ee-4256-8cd6-735d666b9561",
   "metadata": {
    "execution": {
     "iopub.execute_input": "2025-04-03T21:27:22.061342Z",
     "iopub.status.busy": "2025-04-03T21:27:22.060880Z",
     "iopub.status.idle": "2025-04-03T21:27:22.066964Z",
     "shell.execute_reply": "2025-04-03T21:27:22.066291Z"
    }
   },
   "outputs": [
    {
     "data": {
      "text/html": [
       "<div><style id=\"scipp-style-sheet\">.sc-root{--sc-background-color0:var(--jp-layout-color0,#fff);--sc-background-color1:var(--jp-layout-color1,#fcfcfc);--sc-background-color2:var(--jp-layout-color2,#efefef);--sc-inverse-background-color0:var(--jp-inverse-layout-color4,#111);--sc-font-color0:var(--jp-content-font-color0,#000);--sc-font-color1:var(--jp-content-font-color1,#555);--sc-font-color2:var(--jp-content-font-color2,#888);--sc-font-color3:var(--jp-content-font-color3,#ccc);}body.vscode-dark .sc-root{--sc-font-color0:rgba(255,255,255,1);--sc-font-color1:rgba(255,255,255,0.70);--sc-font-color2:rgba(255,255,255,0.54);--sc-font-color3:rgba(255,255,255,0.38);--sc-border-color:#1F1F1F;--sc-disabled-color:#515151;--sc-background-color0:#111111;--sc-background-color1:#111111;--sc-background-color2:#313131;}.sc-wrap{font-size:14px;min-width:300px;max-width:800px;}.sc-var-attrs .sc-wrap{padding-left:3em;}.sc-header{padding-top:6px;padding-bottom:6px;margin-bottom:4px;border-bottom:solid 1px #ddd;}.sc-header > div,.sc-header > ul{display:inline;margin-top:0;margin-bottom:0;}.sc-obj-type,.sc-array-name{margin-left:2px;margin-right:10px;}.sc-obj-type{color:var(--sc-font-color1);}.sc-underlying-size{color:var(--sc-font-color2);}.sc-sections,.reveal .sc-sections{padding-left:0 !important;display:grid;grid-template-columns:150px auto auto auto 1fr 20px 20px;}.sc-section-item{display:contents;}.sc-section-item input{display:none;}.sc-section-item input:enabled + label{cursor:pointer;color:var(--sc-font-color1);}.sc-section-item input:enabled + label:hover{color:var(--sc-font-color0);}.sc-section-summary{grid-column:1;font-weight:500;}.sc-section-summary > span{display:inline-block;padding-left:0.5em;}.sc-section-summary-in:disabled + label{color:var(--sc-font-color1);}.sc-section-summary-in + label:before{display:inline-block;content:'►';font-size:11px;width:15px;text-align:center;}.sc-section-summary-in:disabled + label:before{color:var(--sc-font-color3);}.sc-section-summary-in:checked + label:before{content:'▼';}.sc-section-summary-in:checked + label > span{display:none;}.sc-section-summary,.sc-section-inline-details{padding-top:4px;padding-bottom:4px;}.sc-section-inline-details{grid-column:2 / 6;}.sc-section-details{display:none;grid-column:1 / -1;margin-bottom:5px;}.sc-section-summary-in:checked ~ .sc-section-details{display:contents;}.sc-array-wrap{grid-column:1 / -1;display:grid;grid-template-columns:20px auto;}.sc-array-wrap > label{grid-column:1;vertical-align:top;}.sc-preview{color:var(--sc-font-color2);}.sc-array-preview,.sc-array-data{padding:0 5px !important;grid-column:2;}.sc-array-data,.sc-array-in:checked ~ .sc-array-preview{display:none;}.sc-array-in:checked ~ .sc-array-data,.sc-array-preview{display:inline-block;}.sc-dim-list{display:inline-block !important;list-style:none;padding:0 !important;margin:0;}.sc-dim-list li{display:inline-block;padding:0;margin:0!important;}.sc-dim-list:before{content:'(';}.sc-dim-list:after{content:')';}.sc-dim-list li:not(:last-child):after{content:',';padding-right:5px;}.sc-dim-list li span,.sc-standalone-var-name > span span,.sc-var-name > span span{padding:0 !important;}.sc-aligned{font-weight:bold;}.sc-var-list,.sc-var-item,.reveal .sc-var-list,.reveal .sc-var-item{display:contents;}.sc-var-item > div,.sc-var-item label,.sc-var-item > .sc-var-name span{background-color:var(--sc-background-color1);margin-bottom:0;}.sc-var-item > .sc-var-name:hover span{padding-right:5px;}.sc-var-list > li:nth-child(odd) > div,.sc-var-list > li:nth-child(odd) > label,.sc-var-list > li:nth-child(odd) > .sc-var-name span{background-color:var(--sc-background-color2);}.sc-var-name{grid-column:1;}.sc-var-dims{grid-column:2;}.sc-var-dtype{grid-column:3;text-align:right;color:var(--sc-font-color2);}.sc-var-unit{grid-column:4;text-align:left;color:var(--sc-font-color1);max-width:50pt;text-overflow:ellipsis;}.sc-value-preview{grid-column:5;}.sc-var-preview-variances{text-align:right;}.sc-sections .sc-section-item .sc-section-summary,.sc-sections .sc-section-item .sc-section-inline-details,.sc-section-item .sc-var-list .sc-var-item > div,.sc-section-item .sc-var-list .sc-var-item > label,.sc-section-details .sc-var-list .sc-var-item > div,.sc-section-details .sc-var-list .sc-var-item > label{margin-top:0;margin-bottom:0;}.sc-var-name,.sc-var-dims,.sc-var-dtype,.sc-var-unit,.sc-preview,.sc-attrs dt{white-space:nowrap;overflow:hidden;text-overflow:ellipsis;padding-right:10px;}.sc-var-name:hover,.sc-var-dims:hover,.sc-var-dtype:hover,.sc-var-unit:hover,.sc-attrs dt:hover{overflow:visible;width:auto;z-index:1;}.sc-var-attrs{display:block;}.sc-var-data,.reveal .sc-var-data{display:none;}.sc-var-attrs,.sc-var-data{background-color:var(--sc-background-color0) !important;padding-bottom:5px !important;}.sc-var-attrs-in:checked ~ .sc-var-attrs{display:none;}.sc-var-data-in:checked ~ .sc-var-data{display:block;}.sc-var-data > table{float:right;}.sc-var-name span,.sc-var-data{padding-left:25px !important;}.sc-var-attrs,.sc-var-data{grid-column:1 / -1;}dl.sc-attrs{padding:0;margin:0;display:grid;grid-template-columns:125px auto;}.sc-attrs dt,dd{padding:0;margin:0;float:left;padding-right:10px;width:auto;}.sc-attrs dt{font-weight:normal;grid-column:1;}.sc-attrs dt:hover span{display:inline-block;padding-right:10px;}.sc-attrs dd{grid-column:2;white-space:pre-wrap;word-break:break-all;}.sc-icon-database,.sc-icon-file-text2{display:inline-block;vertical-align:middle;width:1em;height:1.5em !important;stroke-width:0;stroke:currentColor;fill:currentColor;}label.sc-hide-icon svg{opacity:0;}.sc-standalone-var-name{grid-column:1/3;}.sc-standalone-var-name span{padding-left:25px;padding-right:10px;}.sc-title{font-weight:bold;font-size:1.5em;}.sc-subtitle{font-weight:normal;font-style:italic;text-align:left;font-size:1.2em;padding:1px;}.sc-label{fill:var(--sc-font-color0,#444444);text-anchor:middle;}.sc-name{fill:var(--sc-font-color0,#111111);}.sc-inset-line{stroke:var(--sc-font-color1);stroke-width:0.05;stroke-dasharray:0.2,0.2;}.sc-log-wrap{height:25ex;resize:vertical;overflow-y:scroll;display:flex;flex-direction:column-reverse;border:1px solid;border-color:var(--jp-border-color2);background-color:var(--sc-background-color1);}div.sc-log{line-height:2.5ex;}table.sc-log{table-layout:auto;border-collapse:collapse;}tr.sc-log:nth-child(even){background-color:var(--sc-background-color0);}tr.sc-log > td{vertical-align:top;padding-bottom:0.5ex;}.sc-log-time-stamp{min-width:22ch;font-family:var(--jp-code-font-family);color:var(--sc-font-color2);}.sc-log-level{min-width:10ch;}tr.sc-log-debug td.sc-log-level{color:var(--jp-accent-color1);}tr.sc-log-info td.sc-log-level{color:var(--jp-info-color1);}tr.sc-log-warning td.sc-log-level{color:var(--jp-warn-color1);}tr.sc-log-error td.sc-log-level{font-weight:bold;color:var(--jp-error-color2);}tr.sc-log-critical td.sc-log-level{font-weight:bold;color:var(--sc-background-color0);background-color:var(--jp-error-color1);}.sc-log-message{white-space:pre-wrap;width:100%;}.sc-log-html-payload{white-space:normal;}.sc-log-name{padding-right:0.5em;text-align:right;white-space:pre-wrap;color:var(--sc-font-color3);}</style><style id=\"datagroup-style-sheet\">.dg-root{white-space:normal;font-size:14px;min-width:300px;max-width:1200px;}.dg-root *{box-sizing:border-box;}.sc-header > label,.sc-header > label > div,.sc-header > label > div > ul{display:inline;margin-bottom:0;}.dg-header-in{display:none;}.dg-header-in + .sc-header > label:before{display:inline-block;font-size:11px;text-align:left;content:'►';}.dg-header-in:checked + .sc-header > label:before{content:'▼';}.dg-header-in ~ .dg-detail-box{display:none;}.dg-header-in:checked ~ .dg-detail-box{display:grid;}.dg-detail-box{margin-top:5px;margin-bottom:5px;column-gap:0 !important;display:grid;grid-template-columns:max-content max-content max-content max-content max-content max-content max-content;grid-template-areas:\"name        parent      object-type shape       dtype       unit        preview\";}.dg-detail-box *{margin-top:0;margin-bottom:0;}.dg-detail-list{display:contents;}.dg-detail-item{display:contents;list-style-type:none;}.dg-detail-item-in{display:none;}.dg-detail-item-in + .dg-detail-name > label:before{display:inline-block;font-size:14px;text-align:left;content:'►';}.dg-detail-item-in:checked + .dg-detail-name > label:before{content:'▼';}.dg-detail-item div,.dg-detail-item span,.dg-detail-item label{word-break:break-all;min-width:1em;max-width:20em;width:100%;}.dg-detail-item > div{display:contents;}.dg-detail-item > div > div > div{width:100%;}.dg-detail-item:hover > div > div{background-color:var(--sc-background-color2) !important;}.dg-detail-item > div span{padding-left:10px;padding-right:10px;}.dg-detail-item > div > div:first-of-type{grid-column-start:1;}.dg-detail-item-subsection{display:none;}.dg-detail-item-in{margin:0;}.dg-detail-item-in:checked ~ .dg-detail-item-subsection{display:contents;}.dg-detail-item .dg-detail-name{grid-area:\"name\";min-width:5em;}.dg-detail-name{padding-left:calc(var(--depth)*2em);}.dg-detail-name > label{padding-left:8px;}.dg-detail-name > label > span{padding-left:0.1em;}.dg-detail-item .dg-detail-parent{grid-area:\"parent\";text-align:right;}.dg-detail-item .dg-detail-objtype{grid-area:\"objtype\";text-align:left;}.dg-detail-item .dg-detail-shape{max-width:30em;grid-area:\"shape\";text-align:left;}.sc-header .dg-detail-shape{margin-left:1em;text-align:left;}.dg-detail-item .dg-detail-dtype{grid-area:\"dtype\";text-align:left;}.dg-detail-item .dg-detail-unit{grid-area:\"unit\";text-align:center;}.dg-detail-item .dg-detail-preview{grid-area:\"preview\";min-width:15em;max-width:100em !important;text-align:left;}.dg-detail-preview .sc-preview span,.dg-detail-shape span{padding:0 !important;}</style><div class='sc-root dg-root'><input class='dg-header-in' id='datagroup-view-2dcb76f0-80c0-4f2e-83fb-793f72b79bb8' type='checkbox' checked><div class='sc-header'><label for=datagroup-view-2dcb76f0-80c0-4f2e-83fb-793f72b79bb8 title='Expand/collapse'><div class='sc-obj-type'>scipp.DataGroup </div><div class='dg-detail-shape'>(Qz_0: 408, z_0: 500)</div></label></div><div class='dg-detail-box'><ul class='dg-detail-list'><li class='dg-detail-item'><div><div class='dg-detail-name' style='--depth: 0;'><span>data</span></div><div class='dg-detail-parent'><span style='opacity: 0.5;'></span></div><div class='dg-detail-objtype'><span>dict</span></div><div class='dg-detail-shape'>()</div><div class='dg-detail-dtype'><span></span></div><div class='dg-detail-unit'><span></span></div><div class='dg-detail-preview'><span class='sc-preview'>{&#x27;R_0&#x27;: &lt;scipp.Variable&gt; (Qz_0: 408)    float64  [dimensionless]  [0.709581, 0.8...</span></div></div></li><li class='dg-detail-item'><div><div class='dg-detail-name' style='--depth: 0;'><span>coords</span></div><div class='dg-detail-parent'><span style='opacity: 0.5;'></span></div><div class='dg-detail-objtype'><span>dict</span></div><div class='dg-detail-shape'>()</div><div class='dg-detail-dtype'><span></span></div><div class='dg-detail-unit'><span></span></div><div class='dg-detail-preview'><span class='sc-preview'>{&#x27;Qz_0&#x27;: &lt;scipp.Variable&gt; (Qz_0: 408)    float64           [1/Å]  [0.00806022, 0...</span></div></div></li><li class='dg-detail-item'><div><div class='dg-detail-name' style='--depth: 0;'><span>attrs</span></div><div class='dg-detail-parent'><span style='opacity: 0.5;'></span></div><div class='dg-detail-objtype'><span>dict</span></div><div class='dg-detail-shape'>()</div><div class='dg-detail-dtype'><span></span></div><div class='dg-detail-unit'><span></span></div><div class='dg-detail-preview'><span class='sc-preview'>{&#x27;R_0&#x27;: {&#x27;orso_header&#x27;: &lt;scipp.Variable&gt; ()   PyObject        &lt;no unit&gt;  {&#x27;data_...</span></div></div></li><li class='dg-detail-item'><div><div class='dg-detail-name' style='--depth: 0;'><span>R_0_model</span></div><div class='dg-detail-parent'><span style='opacity: 0.5;'>scipp</span></div><div class='dg-detail-objtype'><span>Variable</span></div><div class='dg-detail-shape'>(Qz_0: 408)</div><div class='dg-detail-dtype'><span>float64</span></div><div class='dg-detail-unit'><span>𝟙</span></div><div class='dg-detail-preview'><span class='sc-preview'>0.874, 0.874, ..., 3.925e-07, 3.922e-07</span></div></div></li><li class='dg-detail-item'><div><div class='dg-detail-name' style='--depth: 0;'><span>SLD_0</span></div><div class='dg-detail-parent'><span style='opacity: 0.5;'>scipp</span></div><div class='dg-detail-objtype'><span>Variable</span></div><div class='dg-detail-shape'>(z_0: 500)</div><div class='dg-detail-dtype'><span>float64</span></div><div class='dg-detail-unit'><span>1/Å^2</span></div><div class='dg-detail-preview'><span class='sc-preview'>2.070e-06, 2.070e-06, ..., 6.360e-06, 6.360e-06</span></div></div></li></ul></div></div></div>"
      ],
      "text/plain": [
       "DataGroup(sizes={'Qz_0': 408, 'z_0': 500}, keys=[\n",
       "    data: {'R_0': <scipp.Variable> (Qz_0: 408)    float64  [dimensionless]  [0.709581, 0.862281, ..., 3.85579e-07, 3.83415e-07]  [0.0072365, 0.012627, ..., 3.10264e-14, 3.55149e-14]},\n",
       "    coords: {'Qz_0': <scipp.Variable> (Qz_0: 408)    float64           [1/Å]  [0.00806022, 0.00813662, ..., 0.460946, 0.465555]  [1.98083e-08, 2.01923e-08, ..., 8.97175e-05, 9.20225e-05], 'z_0': <scipp.Variable> (z_0: 500)    float64             [Å]  [-37.304, -36.5954, ..., 315.573, 316.281]},\n",
       "    attrs: {'R_0': {'orso_header': <scipp.Variable> ()   PyObject        <no unit>  {'data_source': {'owner': {'name': 'Andrew Nelson', 'affiliation': 'ANSTO', 'contact': 'Andrew.Nelson@ansto.gov.au'}, 'experiment': {'title': 'Example data file from refnx docs', 'instrument': 'platypus', 'start_date': datetime.datetime(2021, 5, 12, 0, 0), 'probe': 'neutron', 'facility': 'ANSTO'}, 'sample': {'name': 'Polymer Film', 'category': 'solid / liquid', 'composition': 'Si / SiO2 / Film / D2O'}, 'measurement': {'instrument_settings': {'incident_angle': {'magnitude': 3.0, 'unit': 'deg'}, 'wavelength': {'magnitude': 12.0, 'unit': 'angstrom'}, 'polarization': 'unpolarized'}, 'data_files': ['Unknown.nxs'], 'scheme': 'angle-dispersive'}}, 'reduction': {'software': {'name': 'ess'}, 'timestamp': datetime.datetime(2022, 1, 27, 15, 33, 59, tzinfo=datetime.timezone(datetime.timedelta(seconds=3600))), 'corrections': ['footprint', 'incident intensity', 'detector efficiency']}, 'columns': [{'name': 'Qz', 'unit': '1/angstrom', 'dimension': 'WW transfer'}, {'name': 'R', 'dimension': 'reflectivity'}, {'name': 'sR', 'dimension': 'error-reflectivity'}, {'name': 'sQz', 'unit': '1/angstrom', 'dimension': 'resolution-WW transfer'}]}}, 'R_0_model': {'model': <scipp.Variable> ()   PyObject        <no unit>  {'@module': 'easyreflectometry.model.model', '@class': 'Model', '@version': '1.3.1', 'background': {'@module': 'easyscience.Objects.variable.parameter', '@class': 'Parameter', '@version': '1.3.0', 'name': 'background', 'value': np.float64(3.8894957996927617e-07), 'unit': 'dimensionless', 'variance': np.float64(1.1910491294310643e-15), 'min': np.float64(1e-08), 'max': np.float64(1e-05), 'fixed': False, 'unique_name': 'Parameter_1', 'description': 'Linear background to include in reflectometry data', 'url': 'https://github.com/reflectivity/edu_outreach/blob/master/refl_maths/paper.tex', 'display_name': 'background', 'enabled': True}, 'name': 'Film Model', 'unique_name': 'Model_0', 'scale': {'@module': 'easyscience.Objects.variable.parameter', '@class': 'Parameter', '@version': '1.3.0', 'name': 'scale', 'value': np.float64(0.8739516938361336), 'unit': 'dimensionless', 'variance': np.float64(2.832115935788281e-05), 'min': np.float64(0.5), 'max': np.float64(1.5), 'fixed': False, 'unique_name': 'Parameter_0', 'description': 'Scaling of the reflectomety profile', 'url': 'https://github.com/reflectivity/edu_outreach/blob/master/refl_maths/paper.tex', 'display_name': 'scale', 'enabled': True}, 'color': 'black', 'sample': {'@module': 'easyreflectometry.sample.collections.sample', '@class': 'Sample', '@version': '1.3.1', 'data': [{'@module': 'easyreflectometry.sample.assemblies.multilayer', '@class': 'Multilayer', '@version': '1.3.1', 'layers': {'@module': 'easyreflectometry.sample.collections.layer_collection', '@class': 'LayerCollection', '@version': '1.3.1', 'data': [{'@module': 'easyreflectometry.sample.elements.layers.layer', '@class': 'Layer', '@version': '1.3.1', 'material': {'@module': 'easyreflectometry.sample.elements.materials.material', '@class': 'Material', '@version': '1.3.1', 'isld': {'@module': 'easyscience.Objects.variable.parameter', '@class': 'Parameter', '@version': '1.3.0', 'name': 'isld', 'value': np.float64(0.0), 'unit': '1/Å^2', 'variance': np.float64(0.0), 'min': np.float64(-inf), 'max': np.float64(inf), 'fixed': True, 'unique_name': 'Material_0_IsldParameter_0', 'description': 'The imaginary scattering length density for a material in e-6 per squared angstrom.', 'url': 'https://www.ncnr.nist.gov/resources/activation/', 'display_name': 'isld', 'enabled': True}, 'name': 'Si', 'sld': {'@module': 'easyscience.Objects.variable.parameter', '@class': 'Parameter', '@version': '1.3.0', 'name': 'sld', 'value': np.float64(2.07), 'unit': '1/Å^2', 'variance': np.float64(0.0), 'min': np.float64(-inf), 'max': np.float64(inf), 'fixed': True, 'unique_name': 'Material_0_SldParameter_0', 'description': 'The real scattering length density for a material in e-6 per squared angstrom.', 'url': 'https://www.ncnr.nist.gov/resources/activation/', 'display_name': 'sld', 'enabled': True}, 'unique_name': 'Material_0'}, 'name': 'Si layer', 'thickness': {'@module': 'easyscience.Objects.variable.parameter', '@class': 'Parameter', '@version': '1.3.0', 'name': 'thickness', 'value': np.float64(0.0), 'unit': 'Å', 'variance': np.float64(0.0), 'min': np.float64(0.0), 'max': np.float64(inf), 'fixed': True, 'unique_name': 'Layer_0_ThicknessParameter_0', 'description': 'The thickness of the layer in angstroms', 'url': 'https://github.com/reflectivity/edu_outreach/blob/master/refl_maths/paper.tex', 'display_name': 'thickness', 'enabled': False}, 'unique_name': 'Layer_0', 'roughness': {'@module': 'easyscience.Objects.variable.parameter', '@class': 'Parameter', '@version': '1.3.0', 'name': 'roughness', 'value': np.float64(0.0), 'unit': 'Å', 'variance': np.float64(0.0), 'min': np.float64(0.0), 'max': np.float64(inf), 'fixed': True, 'unique_name': 'Layer_0_RoughnessParameter_0', 'description': 'The interfacial roughness, Nevot-Croce, for the layer in angstroms.', 'url': 'https://doi.org/10.1051/rphysap:01980001503076100', 'display_name': 'roughness', 'enabled': False}}, {'@module': 'easyreflectometry.sample.elements.layers.layer', '@class': 'Layer', '@version': '1.3.1', 'material': {'@module': 'easyreflectometry.sample.elements.materials.material', '@class': 'Material', '@version': '1.3.1', 'isld': {'@module': 'easyscience.Objects.variable.parameter', '@class': 'Parameter', '@version': '1.3.0', 'name': 'isld', 'value': np.float64(0.0), 'unit': '1/Å^2', 'variance': np.float64(0.0), 'min': np.float64(-inf), 'max': np.float64(inf), 'fixed': True, 'unique_name': 'Material_1_IsldParameter_0', 'description': 'The imaginary scattering length density for a material in e-6 per squared angstrom.', 'url': 'https://www.ncnr.nist.gov/resources/activation/', 'display_name': 'isld', 'enabled': True}, 'name': 'SiO2', 'sld': {'@module': 'easyscience.Objects.variable.parameter', '@class': 'Parameter', '@version': '1.3.0', 'name': 'sld', 'value': np.float64(3.47), 'unit': '1/Å^2', 'variance': np.float64(0.0), 'min': np.float64(-inf), 'max': np.float64(inf), 'fixed': True, 'unique_name': 'Material_1_SldParameter_0', 'description': 'The real scattering length density for a material in e-6 per squared angstrom.', 'url': 'https://www.ncnr.nist.gov/resources/activation/', 'display_name': 'sld', 'enabled': True}, 'unique_name': 'Material_1'}, 'name': 'SiO2 layer', 'thickness': {'@module': 'easyscience.Objects.variable.parameter', '@class': 'Parameter', '@version': '1.3.0', 'name': 'thickness', 'value': np.float64(38.72739184191167), 'unit': 'Å', 'variance': np.float64(0.3894572629307738), 'min': np.float64(15.0), 'max': np.float64(50.0), 'fixed': False, 'unique_name': 'Layer_1_ThicknessParameter_0', 'description': 'The thickness of the layer in angstroms', 'url': 'https://github.com/reflectivity/edu_outreach/blob/master/refl_maths/paper.tex', 'display_name': 'thickness', 'enabled': True}, 'unique_name': 'Layer_1', 'roughness': {'@module': 'easyscience.Objects.variable.parameter', '@class': 'Parameter', '@version': '1.3.0', 'name': 'roughness', 'value': np.float64(8.075988459513713), 'unit': 'Å', 'variance': np.float64(0.12229457844066173), 'min': np.float64(1.0), 'max': np.float64(15.0), 'fixed': False, 'unique_name': 'Layer_1_RoughnessParameter_0', 'description': 'The interfacial roughness, Nevot-Croce, for the layer in angstroms.', 'url': 'https://doi.org/10.1051/rphysap:01980001503076100', 'display_name': 'roughness', 'enabled': True}}], 'unique_name': 'LayerCollection_0'}, 'type': 'Multi-layer', 'name': 'Si/SiO2 Superphase', 'populate_if_none': False, 'unique_name': 'Multilayer_0'}, {'@module': 'easyreflectometry.sample.assemblies.multilayer', '@class': 'Multilayer', '@version': '1.3.1', 'layers': {'@module': 'easyreflectometry.sample.collections.layer_collection', '@class': 'LayerCollection', '@version': '1.3.1', 'data': [{'@module': 'easyreflectometry.sample.elements.layers.layer', '@class': 'Layer', '@version': '1.3.1', 'material': {'@module': 'easyreflectometry.sample.elements.materials.material', '@class': 'Material', '@version': '1.3.1', 'isld': {'@module': 'easyscience.Objects.variable.parameter', '@class': 'Parameter', '@version': '1.3.0', 'name': 'isld', 'value': np.float64(0.0), 'unit': '1/Å^2', 'variance': np.float64(0.0), 'min': np.float64(-inf), 'max': np.float64(inf), 'fixed': True, 'unique_name': 'Material_2_IsldParameter_0', 'description': 'The imaginary scattering length density for a material in e-6 per squared angstrom.', 'url': 'https://www.ncnr.nist.gov/resources/activation/', 'display_name': 'isld', 'enabled': True}, 'name': 'Film', 'sld': {'@module': 'easyscience.Objects.variable.parameter', '@class': 'Parameter', '@version': '1.3.0', 'name': 'sld', 'value': np.float64(2.3598690205930657), 'unit': '1/Å^2', 'variance': np.float64(0.00048611653902655216), 'min': np.float64(0.1), 'max': np.float64(3.0), 'fixed': False, 'unique_name': 'Material_2_SldParameter_0', 'description': 'The real scattering length density for a material in e-6 per squared angstrom.', 'url': 'https://www.ncnr.nist.gov/resources/activation/', 'display_name': 'sld', 'enabled': True}, 'unique_name': 'Material_2'}, 'name': 'Film Layer', 'thickness': {'@module': 'easyscience.Objects.variable.parameter', '@class': 'Parameter', '@version': '1.3.0', 'name': 'thickness', 'value': np.float64(258.5104069434622), 'unit': 'Å', 'variance': np.float64(0.17235267375267155), 'min': np.float64(200.0), 'max': np.float64(300.0), 'fixed': False, 'unique_name': 'Layer_2_ThicknessParameter_0', 'description': 'The thickness of the layer in angstroms', 'url': 'https://github.com/reflectivity/edu_outreach/blob/master/refl_maths/paper.tex', 'display_name': 'thickness', 'enabled': True}, 'unique_name': 'Layer_2', 'roughness': {'@module': 'easyscience.Objects.variable.parameter', '@class': 'Parameter', '@version': '1.3.0', 'name': 'roughness', 'value': np.float64(10.343278684926268), 'unit': 'Å', 'variance': np.float64(0.28172726621605254), 'min': np.float64(1.0), 'max': np.float64(15.0), 'fixed': False, 'unique_name': 'Layer_2_RoughnessParameter_0', 'description': 'The interfacial roughness, Nevot-Croce, for the layer in angstroms.', 'url': 'https://doi.org/10.1051/rphysap:01980001503076100', 'display_name': 'roughness', 'enabled': True}}], 'unique_name': 'LayerCollection_1'}, 'type': 'Multi-layer', 'name': 'EasyMultilayer', 'populate_if_none': False, 'unique_name': 'Multilayer_1'}, {'@module': 'easyreflectometry.sample.assemblies.multilayer', '@class': 'Multilayer', '@version': '1.3.1', 'layers': {'@module': 'easyreflectometry.sample.collections.layer_collection', '@class': 'LayerCollection', '@version': '1.3.1', 'data': [{'@module': 'easyreflectometry.sample.elements.layers.layer', '@class': 'Layer', '@version': '1.3.1', 'material': {'@module': 'easyreflectometry.sample.elements.materials.material', '@class': 'Material', '@version': '1.3.1', 'isld': {'@module': 'easyscience.Objects.variable.parameter', '@class': 'Parameter', '@version': '1.3.0', 'name': 'isld', 'value': np.float64(0.0), 'unit': '1/Å^2', 'variance': np.float64(0.0), 'min': np.float64(-inf), 'max': np.float64(inf), 'fixed': True, 'unique_name': 'Material_3_IsldParameter_0', 'description': 'The imaginary scattering length density for a material in e-6 per squared angstrom.', 'url': 'https://www.ncnr.nist.gov/resources/activation/', 'display_name': 'isld', 'enabled': True}, 'name': 'D2O', 'sld': {'@module': 'easyscience.Objects.variable.parameter', '@class': 'Parameter', '@version': '1.3.0', 'name': 'sld', 'value': np.float64(6.36), 'unit': '1/Å^2', 'variance': np.float64(0.0), 'min': np.float64(-inf), 'max': np.float64(inf), 'fixed': True, 'unique_name': 'Material_3_SldParameter_0', 'description': 'The real scattering length density for a material in e-6 per squared angstrom.', 'url': 'https://www.ncnr.nist.gov/resources/activation/', 'display_name': 'sld', 'enabled': True}, 'unique_name': 'Material_3'}, 'name': 'D2O Subphase', 'thickness': {'@module': 'easyscience.Objects.variable.parameter', '@class': 'Parameter', '@version': '1.3.0', 'name': 'thickness', 'value': np.float64(0.0), 'unit': 'Å', 'variance': np.float64(0.0), 'min': np.float64(0.0), 'max': np.float64(inf), 'fixed': True, 'unique_name': 'Layer_3_ThicknessParameter_0', 'description': 'The thickness of the layer in angstroms', 'url': 'https://github.com/reflectivity/edu_outreach/blob/master/refl_maths/paper.tex', 'display_name': 'thickness', 'enabled': False}, 'unique_name': 'Layer_3', 'roughness': {'@module': 'easyscience.Objects.variable.parameter', '@class': 'Parameter', '@version': '1.3.0', 'name': 'roughness', 'value': np.float64(3.510912848979932), 'unit': 'Å', 'variance': np.float64(0.03454053858405695), 'min': np.float64(1.0), 'max': np.float64(15.0), 'fixed': False, 'unique_name': 'Layer_3_RoughnessParameter_0', 'description': 'The interfacial roughness, Nevot-Croce, for the layer in angstroms.', 'url': 'https://doi.org/10.1051/rphysap:01980001503076100', 'display_name': 'roughness', 'enabled': True}}], 'unique_name': 'LayerCollection_2'}, 'type': 'Multi-layer', 'name': 'EasyMultilayer', 'populate_if_none': False, 'unique_name': 'Multilayer_2'}], 'unique_name': 'Sample_0', 'populate_if_none': False}, 'resolution_function': {'smearing': 'PercentageFwhm', 'constant': 0.02}, 'interface': 'refnx'}}},\n",
       "    R_0_model: Variable({'Qz_0': 408}),\n",
       "    SLD_0: Variable({'z_0': 500}),\n",
       "])"
      ]
     },
     "execution_count": 21,
     "metadata": {},
     "output_type": "execute_result"
    }
   ],
   "source": [
    "analysed"
   ]
  },
  {
   "cell_type": "markdown",
   "id": "4d0a60aa-31cf-47ea-8a72-786c08de7c45",
   "metadata": {},
   "source": [
    "The same `plot` function that was used on the raw data can be used for this `analysed` object and will show the best fit simulated data and the associated scattering length density profile. "
   ]
  },
  {
   "cell_type": "code",
   "execution_count": 22,
   "id": "47efa2d9-8f84-407b-98f7-a553d220e1f2",
   "metadata": {
    "execution": {
     "iopub.execute_input": "2025-04-03T21:27:22.069071Z",
     "iopub.status.busy": "2025-04-03T21:27:22.068713Z",
     "iopub.status.idle": "2025-04-03T21:27:22.755127Z",
     "shell.execute_reply": "2025-04-03T21:27:22.754500Z"
    }
   },
   "outputs": [
    {
     "data": {
      "image/png": "[encoded data removed]",
      "text/plain": [
       "<Figure size 500x600 with 2 Axes>"
      ]
     },
     "metadata": {},
     "output_type": "display_data"
    }
   ],
   "source": [
    "plot(analysed)"
   ]
  },
  {
   "cell_type": "markdown",
   "id": "a786724f-ec35-4b02-9d54-02536e620717",
   "metadata": {},
   "source": [
    "Finally, from the string representation of the parameters we can obtain information about the optimised values."
   ]
  },
  {
   "cell_type": "code",
   "execution_count": 23,
   "id": "5339f50e-4e46-4a1a-9da5-3a2cf47580f2",
   "metadata": {
    "execution": {
     "iopub.execute_input": "2025-04-03T21:27:22.757180Z",
     "iopub.status.busy": "2025-04-03T21:27:22.756989Z",
     "iopub.status.idle": "2025-04-03T21:27:22.764474Z",
     "shell.execute_reply": "2025-04-03T21:27:22.763822Z"
    }
   },
   "outputs": [
    {
     "data": {
      "text/plain": [
       "Film Model:\n",
       "  scale: 0.8739516938361336\n",
       "  background: 3.8894957996927617e-07\n",
       "  resolution: 0.02 %\n",
       "  color: black\n",
       "  sample:\n",
       "    Film Structure:\n",
       "    - Si/SiO2 Superphase:\n",
       "        Si layer/SiO2 layer:\n",
       "        - Si layer:\n",
       "            material:\n",
       "              Si:\n",
       "                sld: 2.070e-6 1/Å^2\n",
       "                isld: 0.000e-6 1/Å^2\n",
       "            thickness: 0.000 Å\n",
       "            roughness: 0.000 Å\n",
       "        - SiO2 layer:\n",
       "            material:\n",
       "              SiO2:\n",
       "                sld: 3.470e-6 1/Å^2\n",
       "                isld: 0.000e-6 1/Å^2\n",
       "            thickness: 38.727 Å\n",
       "            roughness: 8.076 Å\n",
       "    - EasyMultilayer:\n",
       "        Film Layer:\n",
       "        - Film Layer:\n",
       "            material:\n",
       "              Film:\n",
       "                sld: 2.360e-6 1/Å^2\n",
       "                isld: 0.000e-6 1/Å^2\n",
       "            thickness: 258.510 Å\n",
       "            roughness: 10.343 Å\n",
       "    - EasyMultilayer:\n",
       "        D2O Subphase:\n",
       "        - D2O Subphase:\n",
       "            material:\n",
       "              D2O:\n",
       "                sld: 6.360e-6 1/Å^2\n",
       "                isld: 0.000e-6 1/Å^2\n",
       "            thickness: 0.000 Å\n",
       "            roughness: 3.511 Å"
      ]
     },
     "execution_count": 23,
     "metadata": {},
     "output_type": "execute_result"
    }
   ],
   "source": [
    "model"
   ]
  },
  {
   "cell_type": "markdown",
   "id": "df6db8c3-6515-478b-bd2e-aac967579231",
   "metadata": {},
   "source": [
    "We note here that the results obtained are very similar to those from the [*refnx* tutorial](https://refnx.readthedocs.io/en/latest/getting_started.html#Fitting-a-neutron-reflectometry-dataset), which is hardly surprising given that we have used the *refnx* engine in this example."
   ]
  }
 ],
 "metadata": {
  "kernelspec": {
   "display_name": "easyref",
   "language": "python",
   "name": "python3"
  },
  "language_info": {
   "codemirror_mode": {
    "name": "ipython",
    "version": 3
   },
   "file_extension": ".py",
   "mimetype": "text/x-python",
   "name": "python",
   "nbconvert_exporter": "python",
   "pygments_lexer": "ipython3",
   "version": "3.10.12"
  }
 },
 "nbformat": 4,
 "nbformat_minor": 5
}
