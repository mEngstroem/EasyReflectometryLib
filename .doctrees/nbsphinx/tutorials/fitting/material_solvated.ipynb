{
 "cells": [
  {
   "cell_type": "markdown",
   "id": "580b9e5b-6398-42f4-91e8-b51e5759e7f0",
   "metadata": {},
   "source": [
    "# Using the MaterialSolvated\n",
    "\n",
    "In the [first tutorial](../fitting/simple_fitting.ipynb), we looked at a straight forward example of a polymer film at the solid/liquid interface. \n",
    "To analyse this data, we constructed a model with two layers, one SiO<sub>2</sub> and one of the polymer film, and when the analysis was performed, the scattering length density of the polymer film was allowed to vary to find an optimum value. \n",
    "However, it is likely that this scattering length density is in fact a compound value arising from the mixture of the polymer with some D<sub>2</sub>O intercalated. \n",
    "Therefore, if, for example, the surface covereage of the polymer was known, it may be possible to determine the scattering length density alone. \n",
    "Of course, this could be calculated from the optimal scattering length density for the film, but it is more intuitive to include this in our modelling approach. \n",
    "Here, we will show how to use the `MaterialSolvated` [type](../basic/material_library.rst#materialsolvated) to perform this analysis. "
   ]
  },
  {
   "cell_type": "markdown",
   "id": "f404875e",
   "metadata": {},
   "source": [
    "First configure matplotlib to place figures in notebook and import needed modules. Note that the plot function needs installation of `plopp` seperately or installation of `easyreflectometry[dev]`"
   ]
  },
  {
   "cell_type": "code",
   "execution_count": 1,
   "id": "88c86e82-88dd-4c2d-ad99-826f409ec7b7",
   "metadata": {
    "execution": {
     "iopub.execute_input": "2025-04-03T19:32:56.994969Z",
     "iopub.status.busy": "2025-04-03T19:32:56.994776Z",
     "iopub.status.idle": "2025-04-03T19:32:58.686806Z",
     "shell.execute_reply": "2025-04-03T19:32:58.686126Z"
    }
   },
   "outputs": [],
   "source": [
    "%matplotlib inline\n",
    "\n",
    "import numpy as np\n",
    "import scipp as sc\n",
    "import pooch\n",
    "import refnx\n",
    "\n",
    "import easyreflectometry\n",
    "\n",
    "from easyreflectometry.data import load\n",
    "from easyreflectometry.sample import Layer\n",
    "from easyreflectometry.sample import Sample\n",
    "from easyreflectometry.sample import Material\n",
    "from easyreflectometry.sample import MaterialSolvated\n",
    "from easyreflectometry.sample import Multilayer\n",
    "from easyreflectometry.model import Model\n",
    "from easyreflectometry.model import PercentageFwhm\n",
    "from easyreflectometry.calculators import CalculatorFactory\n",
    "from easyreflectometry.fitting import MultiFitter\n",
    "from easyreflectometry.plot import plot"
   ]
  },
  {
   "cell_type": "markdown",
   "id": "ac56f7a4-5a1c-44c4-af2e-6c5918f89ee3",
   "metadata": {},
   "source": [
    "Showing the version of specific softare for reproducibility"
   ]
  },
  {
   "cell_type": "code",
   "execution_count": 2,
   "id": "d40fed9d-5888-4bee-b014-0d6430eea8c0",
   "metadata": {
    "execution": {
     "iopub.execute_input": "2025-04-03T19:32:58.689201Z",
     "iopub.status.busy": "2025-04-03T19:32:58.688911Z",
     "iopub.status.idle": "2025-04-03T19:32:58.693158Z",
     "shell.execute_reply": "2025-04-03T19:32:58.692609Z"
    }
   },
   "outputs": [
    {
     "name": "stdout",
     "output_type": "stream",
     "text": [
      "numpy: 1.26.0\n",
      "scipp: 24.02.0\n",
      "easyreflectometry: 1.3.0\n",
      "refnx: 0.1.53\n"
     ]
    }
   ],
   "source": [
    "print(f'numpy: {np.__version__}')\n",
    "print(f'scipp: {sc.__version__}')\n",
    "print(f'easyreflectometry: {easyreflectometry.__version__}')\n",
    "print(f'refnx: {refnx.__version__}')"
   ]
  },
  {
   "cell_type": "markdown",
   "id": "3ac19f8b-099d-4b19-8d37-7dd651a25949",
   "metadata": {},
   "source": [
    "For information about the data being read in and the details of the model see [the previous tutorial](../fitting/simple_fitting.ipynb). \n",
    "We will gloss over these details here.\n",
    "We use `pooch` to fetch the file from the repository."
   ]
  },
  {
   "cell_type": "code",
   "execution_count": 3,
   "id": "a95a39dd-d0eb-4029-9dc8-41e6e7918f66",
   "metadata": {
    "execution": {
     "iopub.execute_input": "2025-04-03T19:32:58.695126Z",
     "iopub.status.busy": "2025-04-03T19:32:58.694929Z",
     "iopub.status.idle": "2025-04-03T19:32:59.163066Z",
     "shell.execute_reply": "2025-04-03T19:32:59.162429Z"
    }
   },
   "outputs": [
    {
     "name": "stderr",
     "output_type": "stream",
     "text": [
      "Downloading data from 'https://raw.githubusercontent.com/EasyScience/EasyReflectometryLib/master/docs/src/tutorials/fitting/example.ort' to file '/home/runner/.cache/pooch/ec8fae13fd7789fd387981c8373238f0-example.ort'.\n"
     ]
    }
   ],
   "source": [
    "file_path = pooch.retrieve(\n",
    "    # URL to one of Pooch's test files\n",
    "    url=\"https://raw.githubusercontent.com/EasyScience/EasyReflectometryLib/master/docs/src/tutorials/fitting/example.ort\",\n",
    "    known_hash=\"82d0c95c069092279a799a8131ad3710335f601d9f1080754b387f42e407dfab\",\n",
    ")\n",
    "data = load(file_path)"
   ]
  },
  {
   "cell_type": "markdown",
   "id": "01053a43-967c-4ce9-ae3f-92153eadb647",
   "metadata": {},
   "source": [
    "## Constructing the model\n",
    "\n",
    "Previously the model consisted of four materials, we will construct those again here. "
   ]
  },
  {
   "cell_type": "code",
   "execution_count": 4,
   "id": "60e5a3c5-58a8-429a-a446-a115f489af0f",
   "metadata": {
    "execution": {
     "iopub.execute_input": "2025-04-03T19:32:59.165573Z",
     "iopub.status.busy": "2025-04-03T19:32:59.165190Z",
     "iopub.status.idle": "2025-04-03T19:32:59.174245Z",
     "shell.execute_reply": "2025-04-03T19:32:59.173575Z"
    }
   },
   "outputs": [],
   "source": [
    "si = Material(sld=2.07, isld=0, name='Si')\n",
    "sio2 = Material(sld=3.47, isld=0, name='SiO2')\n",
    "film = Material(sld=2.0, isld=0, name='Film')\n",
    "d2o = Material(sld=6.36, isld=0, name='D2O')"
   ]
  },
  {
   "cell_type": "markdown",
   "id": "64c79212-98f8-472c-8bb2-afbc09d7fe98",
   "metadata": {},
   "source": [
    "However, now we will construct a component object (for type `MaterialSolvated`), based on the knowledge that there is a 75 % surface coverage of the silicon block by the polymer film.\n",
    "Note that this object takes the material (polymer film) and a solvent, which both are instances of `Material`. The fraction of material and solvent is given by the `solvent_fraction`, which in this case is 25% solvent."
   ]
  },
  {
   "cell_type": "code",
   "execution_count": 5,
   "id": "f2b910db-530f-49c5-907a-67712ba939d2",
   "metadata": {
    "execution": {
     "iopub.execute_input": "2025-04-03T19:32:59.176190Z",
     "iopub.status.busy": "2025-04-03T19:32:59.175829Z",
     "iopub.status.idle": "2025-04-03T19:32:59.182685Z",
     "shell.execute_reply": "2025-04-03T19:32:59.182037Z"
    }
   },
   "outputs": [],
   "source": [
    "solvated_film_material = MaterialSolvated(\n",
    "    material=film,\n",
    "    solvent=d2o,\n",
    "    solvent_fraction=0.25,\n",
    "    name='Solvated Film'\n",
    ")"
   ]
  },
  {
   "cell_type": "markdown",
   "id": "e77ee2d7-9670-4791-b905-2ce92c9e20d5",
   "metadata": {},
   "source": [
    "So for the `solvated_film` object, the scattering length density is calculated as,\n",
    "\n",
    "<math xmlns=\"http://www.w3.org/1998/Math/MathML\" display=\"block\">\n",
    "\n",
    "  <mi>ρ</mi>\n",
    "  <sub>\n",
    "    <mi>solvent</mi>\n",
    "  </sub>\n",
    "  <mo>=</mo>\n",
    "  <mo>(</mo>\n",
    "  <mn>1</mn>\n",
    "  <mo>-</mo>\n",
    "  <mi>ϕ</mi>\n",
    "   <sub>\n",
    "    <mi>film</mi>\n",
    "  </sub>\n",
    "  <mo>)</mo>\n",
    "  <mo>+</mo>\n",
    "  <mi>ϕ</mi>\n",
    "  <mi>ρ</mi>\n",
    "  <sub>\n",
    "    <mi>D</mi>\n",
    "    <sub>\n",
    "    <mn>2</mn>\n",
    "    </sub>\n",
    "    <mi>O</mi>\n",
    "  </sub>\n",
    "</math>\n",
    "\n",
    "where the scattering length densities are given with <mi>ρ</mi> and the coverage with <mi>ϕ</mi>. \n",
    "This means that when we investigate the `solvated_film` object, the scattering length density will be 3.09e-6 Å<sup>-2</sup>"
   ]
  },
  {
   "cell_type": "code",
   "execution_count": 6,
   "id": "9762616d-6b1d-4045-8aaf-134b72695a1a",
   "metadata": {
    "execution": {
     "iopub.execute_input": "2025-04-03T19:32:59.184848Z",
     "iopub.status.busy": "2025-04-03T19:32:59.184473Z",
     "iopub.status.idle": "2025-04-03T19:32:59.190476Z",
     "shell.execute_reply": "2025-04-03T19:32:59.189827Z"
    }
   },
   "outputs": [
    {
     "data": {
      "text/plain": [
       "Solvated Film:\n",
       "  solvent_fraction: 0.250 dimensionless\n",
       "  sld: 3.090e-6 1/Å^2\n",
       "  isld: 0.000e-6 1/Å^2\n",
       "  material:\n",
       "    Film:\n",
       "      sld: 2.000e-6 1/Å^2\n",
       "      isld: 0.000e-6 1/Å^2\n",
       "  solvent:\n",
       "    D2O:\n",
       "      sld: 6.360e-6 1/Å^2\n",
       "      isld: 0.000e-6 1/Å^2"
      ]
     },
     "execution_count": 6,
     "metadata": {},
     "output_type": "execute_result"
    }
   ],
   "source": [
    "solvated_film_material"
   ]
  },
  {
   "cell_type": "markdown",
   "id": "0db4114b-3cfb-4d8e-a40e-3d86f869ab5f",
   "metadata": {},
   "source": [
    "Now, we can construct our layers, sample and model. "
   ]
  },
  {
   "cell_type": "code",
   "execution_count": 7,
   "id": "f1ea2e41-f50e-4fbb-989f-aecc0e3e9860",
   "metadata": {
    "execution": {
     "iopub.execute_input": "2025-04-03T19:32:59.192753Z",
     "iopub.status.busy": "2025-04-03T19:32:59.192351Z",
     "iopub.status.idle": "2025-04-03T19:32:59.204660Z",
     "shell.execute_reply": "2025-04-03T19:32:59.204148Z"
    }
   },
   "outputs": [],
   "source": [
    "si_layer = Layer(material=si, thickness=0, roughness=0, name='Si layer')\n",
    "sio2_layer = Layer(material=sio2, thickness=30, roughness=3, name='SiO2 layer')\n",
    "superphase = Multilayer([si_layer, sio2_layer], name='Si/SiO2 Superphase')\n",
    "\n",
    "solvated_film = Layer(material=solvated_film_material, thickness=250, roughness=3, name='Film Layer')\n",
    "\n",
    "subphase = Layer(material=d2o, thickness=0, roughness=3, name='D2O Subphase')\n",
    "\n",
    "resolution_function = PercentageFwhm(0.02)\n",
    "sample = Sample(superphase, Multilayer(solvated_film), Multilayer(subphase), name='Film Structure')\n",
    "model = Model(\n",
    "    sample=sample,\n",
    "    scale=1,\n",
    "    background=1e-6,\n",
    "    resolution_function=resolution_function,\n",
    "    name='Film Model'\n",
    ")"
   ]
  },
  {
   "cell_type": "markdown",
   "id": "902042ee-0b7d-4515-9e4d-f7d34bae85af",
   "metadata": {},
   "source": [
    "## Setting varying parameters\n",
    "\n",
    "Previously, the scattering length density of the `film_layer` was allowed to vary (in addition to other parameters). \n",
    "This time, the scattering length density will for the `film` be varied, leading to a change in the `solvated_film_layer` scattering length density. \n",
    "We show this in the four code cells below. "
   ]
  },
  {
   "cell_type": "code",
   "execution_count": 8,
   "id": "f99fba34-268d-40ee-a74d-982bb2805b11",
   "metadata": {
    "execution": {
     "iopub.execute_input": "2025-04-03T19:32:59.206618Z",
     "iopub.status.busy": "2025-04-03T19:32:59.206261Z",
     "iopub.status.idle": "2025-04-03T19:32:59.209336Z",
     "shell.execute_reply": "2025-04-03T19:32:59.208690Z"
    }
   },
   "outputs": [],
   "source": [
    "film.sld.value = 2.0"
   ]
  },
  {
   "cell_type": "code",
   "execution_count": 9,
   "id": "d361f9ba-e0a3-46a1-890e-b8f57ac2ada0",
   "metadata": {
    "execution": {
     "iopub.execute_input": "2025-04-03T19:32:59.211374Z",
     "iopub.status.busy": "2025-04-03T19:32:59.210925Z",
     "iopub.status.idle": "2025-04-03T19:32:59.214465Z",
     "shell.execute_reply": "2025-04-03T19:32:59.213821Z"
    }
   },
   "outputs": [
    {
     "name": "stdout",
     "output_type": "stream",
     "text": [
      "3.09\n"
     ]
    }
   ],
   "source": [
    "print(solvated_film.material.sld)"
   ]
  },
  {
   "cell_type": "code",
   "execution_count": 10,
   "id": "0e872a4d-f468-4e5a-8938-9cb50d16c460",
   "metadata": {
    "execution": {
     "iopub.execute_input": "2025-04-03T19:32:59.216232Z",
     "iopub.status.busy": "2025-04-03T19:32:59.216031Z",
     "iopub.status.idle": "2025-04-03T19:32:59.220574Z",
     "shell.execute_reply": "2025-04-03T19:32:59.219930Z"
    }
   },
   "outputs": [],
   "source": [
    "film.sld.value = 2.5"
   ]
  },
  {
   "cell_type": "code",
   "execution_count": 11,
   "id": "1c84d8d9-6f94-4b88-9070-55e81cc57858",
   "metadata": {
    "execution": {
     "iopub.execute_input": "2025-04-03T19:32:59.222619Z",
     "iopub.status.busy": "2025-04-03T19:32:59.222241Z",
     "iopub.status.idle": "2025-04-03T19:32:59.225742Z",
     "shell.execute_reply": "2025-04-03T19:32:59.225149Z"
    }
   },
   "outputs": [
    {
     "name": "stdout",
     "output_type": "stream",
     "text": [
      "3.465\n"
     ]
    }
   ],
   "source": [
    "print(solvated_film.material.sld)"
   ]
  },
  {
   "cell_type": "markdown",
   "id": "6dec0a9c-2d43-4a93-b616-2223edf357ef",
   "metadata": {},
   "source": [
    "The parameter bounds are then set as follows. "
   ]
  },
  {
   "cell_type": "code",
   "execution_count": 12,
   "id": "79c3dc7a-b4cd-4eea-b098-08c962d747e6",
   "metadata": {
    "execution": {
     "iopub.execute_input": "2025-04-03T19:32:59.227642Z",
     "iopub.status.busy": "2025-04-03T19:32:59.227284Z",
     "iopub.status.idle": "2025-04-03T19:32:59.234923Z",
     "shell.execute_reply": "2025-04-03T19:32:59.234266Z"
    }
   },
   "outputs": [],
   "source": [
    "# Thicknesses\n",
    "sio2_layer.thickness.bounds = (15, 50)\n",
    "solvated_film.thickness.bounds = (200, 300)\n",
    "# Roughnesses\n",
    "sio2_layer.roughness.bounds = (1, 15)\n",
    "solvated_film.roughness.bounds = (1, 15)\n",
    "subphase.roughness.bounds = (1, 15)\n",
    "# Scattering length density\n",
    "film.sld.bounds = (0.1, 3)\n",
    "# Background\n",
    "model.background.bounds = (1e-8, 1e-5)\n",
    "# Scale\n",
    "model.scale.bounds = (0.5, 1.5)"
   ]
  },
  {
   "cell_type": "markdown",
   "id": "65fa9a7a-6bd5-4afa-9db4-a1cbcc64ca66",
   "metadata": {},
   "source": [
    "## Perform the fitting\n",
    "\n",
    "Having constructed the model and set the relevant varying parameters, we run the analysis (using the default [refnx engine](https://refnx.readthedocs.io/)). "
   ]
  },
  {
   "cell_type": "code",
   "execution_count": 13,
   "id": "3e24b615-cb32-41f8-95e5-5998072c7868",
   "metadata": {
    "execution": {
     "iopub.execute_input": "2025-04-03T19:32:59.236781Z",
     "iopub.status.busy": "2025-04-03T19:32:59.236559Z",
     "iopub.status.idle": "2025-04-03T19:32:59.454138Z",
     "shell.execute_reply": "2025-04-03T19:32:59.453403Z"
    }
   },
   "outputs": [],
   "source": [
    "interface = CalculatorFactory()\n",
    "model.interface = interface\n",
    "fitter = MultiFitter(model)\n",
    "analysed = fitter.fit(data)"
   ]
  },
  {
   "cell_type": "markdown",
   "id": "0e59e732-3719-4dcd-9f11-f6bb4f76c69e",
   "metadata": {},
   "source": [
    "The model fits well to the data."
   ]
  },
  {
   "cell_type": "code",
   "execution_count": 14,
   "id": "8953f8ae-7b2d-4ef5-89f5-1da86af96ce0",
   "metadata": {
    "execution": {
     "iopub.execute_input": "2025-04-03T19:32:59.456533Z",
     "iopub.status.busy": "2025-04-03T19:32:59.456135Z",
     "iopub.status.idle": "2025-04-03T19:33:00.066208Z",
     "shell.execute_reply": "2025-04-03T19:33:00.065492Z"
    }
   },
   "outputs": [
    {
     "data": {
      "image/png": "[encoded data removed]",
      "text/plain": [
       "<Figure size 500x600 with 2 Axes>"
      ]
     },
     "metadata": {},
     "output_type": "display_data"
    }
   ],
   "source": [
    "plot(analysed)"
   ]
  },
  {
   "cell_type": "markdown",
   "id": "80817366-363b-480b-bcfe-9ca063d3502e",
   "metadata": {},
   "source": [
    "We can probe the `MaterialSolvated` object to investigate the scattering length density of the polymer film alone."
   ]
  },
  {
   "cell_type": "code",
   "execution_count": 15,
   "id": "1a87d47b-9508-4b1b-845d-0a5a8cf266d8",
   "metadata": {
    "execution": {
     "iopub.execute_input": "2025-04-03T19:33:00.068386Z",
     "iopub.status.busy": "2025-04-03T19:33:00.068016Z",
     "iopub.status.idle": "2025-04-03T19:33:00.073215Z",
     "shell.execute_reply": "2025-04-03T19:33:00.072690Z"
    }
   },
   "outputs": [
    {
     "data": {
      "text/plain": [
       "Solvated Film:\n",
       "  solvent_fraction: 0.250 dimensionless\n",
       "  sld: 2.360e-6 1/Å^2\n",
       "  isld: 0.000e-6 1/Å^2\n",
       "  material:\n",
       "    Film:\n",
       "      sld: 1.026e-6 1/Å^2\n",
       "      isld: 0.000e-6 1/Å^2\n",
       "  solvent:\n",
       "    D2O:\n",
       "      sld: 6.360e-6 1/Å^2\n",
       "      isld: 0.000e-6 1/Å^2"
      ]
     },
     "execution_count": 15,
     "metadata": {},
     "output_type": "execute_result"
    }
   ],
   "source": [
    "solvated_film_material"
   ]
  },
  {
   "cell_type": "markdown",
   "id": "0e2fbca8-3717-4fee-8854-f081dd79c4c3",
   "metadata": {},
   "source": [
    "The fit reproducing the measured reflectivity curve yields that the scattering length density (SLD) of the layer is 2.36E-6 Å<sup>-2</sup>.  Remember this layer is composed of 75% of the polymer film layer (SLD of 1.026E-6 Å<sup>-2</sup> fitted) and 25% of D2O (SLD of 6.36E-6  Å<sup>-2</sup> known) making (0.75 * 1.026 + 0.25 * 6.36)E-6 = 2.36E-6 Å<sup>-2</sup>.  This is the same as the result from the [previous tutorial](./simple_fitting.ipynb)."
   ]
  }
 ],
 "metadata": {
  "kernelspec": {
   "display_name": "easyref",
   "language": "python",
   "name": "python3"
  },
  "language_info": {
   "codemirror_mode": {
    "name": "ipython",
    "version": 3
   },
   "file_extension": ".py",
   "mimetype": "text/x-python",
   "name": "python",
   "nbconvert_exporter": "python",
   "pygments_lexer": "ipython3",
   "version": "3.9.21"
  }
 },
 "nbformat": 4,
 "nbformat_minor": 5
}
